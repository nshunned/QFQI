{
 "cells": [
  {
   "cell_type": "code",
   "execution_count": 1,
   "metadata": {},
   "outputs": [],
   "source": [
    "import cmath, random, numpy\n",
    "import functools\n",
    "import  matplotlib.pyplot as plt\n",
    "import sys\n",
    "import os\n",
    "import math\n",
    "from qutip import*\n",
    "from sympy import*\n",
    "#from sympsi import*\n",
    "from scipy import optimize   "
   ]
  },
  {
   "cell_type": "code",
   "execution_count": 2,
   "metadata": {},
   "outputs": [],
   "source": [
    "from mpl_toolkits.mplot3d import Axes3D\n",
    "from matplotlib import cm\n",
    "import time\n",
    "import math\n",
    "from qutip import *\n",
    "from qutip.ipynbtools import plot_animation\n",
    "import numpy as np\n",
    "import matplotlib.pyplot as plt\n",
    "import qutip\n",
    "%matplotlib inline\n",
    "import matplotlib.pylab as plt\n",
    "import matplotlib as mpl\n",
    "from mpl_toolkits.mplot3d import Axes3D\n",
    "from matplotlib import cm\n",
    "from IPython.display import display, Math, Latex"
   ]
  },
  {
   "cell_type": "code",
   "execution_count": 5,
   "metadata": {},
   "outputs": [
    {
     "ename": "TypeError",
     "evalue": "can't convert expression to float",
     "output_type": "error",
     "traceback": [
      "\u001b[0;31m---------------------------------------------------------------------------\u001b[0m",
      "\u001b[0;31mTypeError\u001b[0m                                 Traceback (most recent call last)",
      "\u001b[0;32m<ipython-input-5-5f9b0aa88287>\u001b[0m in \u001b[0;36m<module>\u001b[0;34m\u001b[0m\n\u001b[1;32m     36\u001b[0m     \u001b[0;34m-\u001b[0m\u001b[0mmath\u001b[0m\u001b[0;34m.\u001b[0m\u001b[0msin\u001b[0m\u001b[0;34m(\u001b[0m\u001b[0;36m2\u001b[0m\u001b[0;34m*\u001b[0m\u001b[0mT\u001b[0m\u001b[0;34m)\u001b[0m\u001b[0;34m*\u001b[0m\u001b[0mcov_jx_jz\u001b[0m\u001b[0;34m(\u001b[0m\u001b[0mj_x\u001b[0m\u001b[0;34m,\u001b[0m\u001b[0mj_z\u001b[0m\u001b[0;34m,\u001b[0m\u001b[0mrho_in\u001b[0m\u001b[0;34m)\u001b[0m\u001b[0;34m\u001b[0m\u001b[0;34m\u001b[0m\u001b[0m\n\u001b[1;32m     37\u001b[0m     \u001b[0;32mreturn\u001b[0m \u001b[0mdel_jz\u001b[0m\u001b[0;34m\u001b[0m\u001b[0;34m\u001b[0m\u001b[0m\n\u001b[0;32m---> 38\u001b[0;31m \u001b[0;36m2\u001b[0m\u001b[0;34m*\u001b[0m\u001b[0mmath\u001b[0m\u001b[0;34m.\u001b[0m\u001b[0msin\u001b[0m\u001b[0;34m(\u001b[0m\u001b[0mT\u001b[0m\u001b[0;34m)\u001b[0m\u001b[0;34m\u001b[0m\u001b[0;34m\u001b[0m\u001b[0m\n\u001b[0m",
      "\u001b[0;32m~/anaconda3/lib/python3.7/site-packages/sympy/core/expr.py\u001b[0m in \u001b[0;36m__float__\u001b[0;34m(self)\u001b[0m\n\u001b[1;32m    254\u001b[0m         \u001b[0;32mif\u001b[0m \u001b[0mresult\u001b[0m\u001b[0;34m.\u001b[0m\u001b[0mis_number\u001b[0m \u001b[0;32mand\u001b[0m \u001b[0mresult\u001b[0m\u001b[0;34m.\u001b[0m\u001b[0mas_real_imag\u001b[0m\u001b[0;34m(\u001b[0m\u001b[0;34m)\u001b[0m\u001b[0;34m[\u001b[0m\u001b[0;36m1\u001b[0m\u001b[0;34m]\u001b[0m\u001b[0;34m:\u001b[0m\u001b[0;34m\u001b[0m\u001b[0;34m\u001b[0m\u001b[0m\n\u001b[1;32m    255\u001b[0m             \u001b[0;32mraise\u001b[0m \u001b[0mTypeError\u001b[0m\u001b[0;34m(\u001b[0m\u001b[0;34m\"can't convert complex to float\"\u001b[0m\u001b[0;34m)\u001b[0m\u001b[0;34m\u001b[0m\u001b[0;34m\u001b[0m\u001b[0m\n\u001b[0;32m--> 256\u001b[0;31m         \u001b[0;32mraise\u001b[0m \u001b[0mTypeError\u001b[0m\u001b[0;34m(\u001b[0m\u001b[0;34m\"can't convert expression to float\"\u001b[0m\u001b[0;34m)\u001b[0m\u001b[0;34m\u001b[0m\u001b[0;34m\u001b[0m\u001b[0m\n\u001b[0m\u001b[1;32m    257\u001b[0m \u001b[0;34m\u001b[0m\u001b[0m\n\u001b[1;32m    258\u001b[0m     \u001b[0;32mdef\u001b[0m \u001b[0m__complex__\u001b[0m\u001b[0;34m(\u001b[0m\u001b[0mself\u001b[0m\u001b[0;34m)\u001b[0m\u001b[0;34m:\u001b[0m\u001b[0;34m\u001b[0m\u001b[0;34m\u001b[0m\u001b[0m\n",
      "\u001b[0;31mTypeError\u001b[0m: can't convert expression to float"
     ]
    }
   ],
   "source": [
    "\"\"\"Define the operators for MZI - we will deal in Heisenberg \"\"\"\n",
    "T = Symbol('T')\n",
    "def schwinger_rep(a,b):\n",
    "    jx = 0.5*(tensor(a.dag(),b) + tensor(b.dag(),a))\n",
    "    jz = 0.5*(tensor(a.dag()*a, qeye(N_dim))-tensor(qeye(N_dim), b.dag()*b))\n",
    "    return jx, jz   \n",
    "def J_z(T,jx,jz):\n",
    "    return -math.sin(T)*jx + math.cos(T)*jz\n",
    "def derive_Jz(T,jx,jz):\n",
    "    return -math.cos(T)*jx- math.sin(T)*jz\n",
    "def J_z_square(phi,jx,jz):\n",
    "    return math.sin(phi)*math.sin(phi)*jx*jx + math.cos(phi)*math.cos(phi)*jz*jz - math.sin(phi)*math.cos(phi)*(jx*jz+jz*jx)\n",
    "def BS_operator_filtering(a1, a2, k):\n",
    "    theta_k = np.arctan(1/np.sqrt(k))\n",
    "    T = np.sin(theta_k)*np.sin(theta_k)\n",
    "    R = np.cos(theta_k)*np.cos(theta_k)\n",
    "    print('I am filtering', k, 'and:', theta_k*180/math.pi)\n",
    "    print('BS T is : ', T, 'and : ', R)\n",
    "    b = theta_k*(tensor(a1,a2.dag()) - tensor(a1.dag(),a2))\n",
    "    return b.expm()\n",
    "def coherent_state_PDF(n, alpha):\n",
    "    mean_photon = abs(alpha)*abs(alpha)\n",
    "    prob = math.exp(-mean_photon)*pow(mean_photon, n)/math.factorial(n)\n",
    "    return prob, mean_photon\n",
    "def fid_calc(psi_1, psi_2):\n",
    "    fid = fidelity(psi_1, psi_2)\n",
    "    return fid    \n",
    "def var_square_jz(j_z, rho):\n",
    "    return (j_z*j_z*rho).tr() - ((j_z*rho).tr())*((j_z*rho).tr())\n",
    "def var_square_jx(j_x,rho):\n",
    "    return (j_x*j_x*rho).tr() - (j_x*rho).tr()*((j_x*rho).tr())\n",
    "def cov_jx_jz(j_x,j_z,rho):\n",
    "    return  0.5*((j_x*j_z+j_x*j_z)*rho).tr() - (j_x*rho).tr()*(j_z*rho).tr()\n",
    "def delta_jz_square(T,j_x,j_z,rho_in):\n",
    "    del_jz = math.cos(T)*math.cos(T)*var_square_jz(j_z,rho_in)+ math.sin(T)*math.sin(T)*var_square_jx(j_x,rho_in)\n",
    "    -math.sin(2*T)*cov_jx_jz(j_x,j_z,rho_in)\n",
    "    return del_jz\n"
   ]
  },
  {
   "cell_type": "code",
   "execution_count": 17,
   "metadata": {},
   "outputs": [
    {
     "data": {
      "text/plain": [
       "sin(a)*cos(b)"
      ]
     },
     "execution_count": 17,
     "metadata": {},
     "output_type": "execute_result"
    }
   ],
   "source": [
    "a,b, c = symbols('a b c')\n",
    "d = sin(a)*cos(b)\n"
   ]
  },
  {
   "cell_type": "code",
   "execution_count": 4,
   "metadata": {},
   "outputs": [
    {
     "data": {
      "text/plain": [
       "39.42243611931998"
      ]
     },
     "execution_count": 4,
     "metadata": {},
     "output_type": "execute_result"
    }
   ],
   "source": [
    "\"\"\"Great so far, lets do the filtering now. Lets define operators now\"\"\"\n",
    "\n",
    "xvec = np.arange(-40.,40.)*5./40\n",
    "X,Y = np.meshgrid(xvec, xvec)  ##Some plotting params\n",
    "N_dim = 60##Dimenstion of the Hilbert spac\n",
    "\n",
    "a1 = destroy(N_dim) ##This is for single-photon field\n",
    "a2 = destroy(N_dim) ##for coherent field\n",
    "Fock_state = fock(N_dim, 1)\n",
    "#amp =0.707*(1+1j) ## Coherent state\n",
    "amp = 4; #*(2+2j)\n",
    "coherent_state_1 = coherent(N = N_dim,alpha = amp)\n",
    "coherent_state_2 = coherent(N = N_dim, alpha = 2*amp)\n",
    "CPADED =(tensor(create(N_dim), qeye(N_dim))*tensor(coherent_state_1, coherent_state_2)\n",
    "                + tensor(qeye(N_dim), create(N_dim))*tensor(coherent_state_1, coherent_state_2))\n",
    "cat_state  = 0.707*(coherent(N = N_dim, alpha = -amp))\n",
    "Wigner_Fock_state = wigner(Fock_state,xvec,xvec)\n",
    "CPADED\n",
    "ket2dm(CPADED).tr()"
   ]
  },
  {
   "cell_type": "code",
   "execution_count": null,
   "metadata": {
    "collapsed": true
   },
   "outputs": [],
   "source": []
  },
  {
   "cell_type": "code",
   "execution_count": 76,
   "metadata": {
    "collapsed": true
   },
   "outputs": [],
   "source": [
    "T = 90*math.pi/180\n",
    "j_x, j_z = schwinger_rep(a1,a2)\n",
    "j_z_out = J_z(T,j_x,j_z)\n",
    "delta_jz = derive_Jz(T,j_x,j_z)\n",
    "j_z_out_square = J_z_square(T,j_x,j_z)"
   ]
  },
  {
   "cell_type": "code",
   "execution_count": 77,
   "metadata": {},
   "outputs": [
    {
     "name": "stdout",
     "output_type": "stream",
     "text": [
      "(-19.162620935368+0j)\n"
     ]
    }
   ],
   "source": [
    "Exp_photon_number_diff = ((ket2dm(CPADED)/ket2dm(CPADED).tr())*j_z).tr()\n",
    "print(Exp_photon_number_diff)"
   ]
  },
  {
   "cell_type": "code",
   "execution_count": 84,
   "metadata": {},
   "outputs": [
    {
     "name": "stdout",
     "output_type": "stream",
     "text": [
      "The expectation value is J_z = \n",
      "27.591371837276952\n",
      "The expectation value is STDVD =  (153.2895951940389+0j)\n",
      "The expectation value is delta_phi =  68.86029053175785\n"
     ]
    }
   ],
   "source": [
    "\"\"\"Same for Fock states input\"\"\"\n",
    "\n",
    "Rho_input_MZI_fock = ket2dm(CPADED)/ket2dm(CPADED).tr()\n",
    "Rho_input_MZI_fock.tr()\n",
    "#tensor(ket2dm(Fock_state_i),ket2dm(Fock_state_j))\n",
    "J_z_out_fock = abs((Rho_input_MZI_fock*j_z_out).tr())\n",
    "print(\"The expectation value is J_z = \")\n",
    "print(J_z_out_fock)   \n",
    "derive_J_z_out_fock = (Rho_input_MZI_fock*delta_jz).tr()\n",
    "j_z_2_out_fock = (Rho_input_MZI_fock*j_z_out_square).tr()\n",
    "#STDVD = math.sqrt(abs((j_z_2_out_fock- J_z_out_fock*J_z_out_fock)))\n",
    "STDVD = (delta_jz_square(T,j_x,j_z,Rho_input_MZI_fock))\n",
    "print(\"The expectation value is STDVD = \", STDVD)\n",
    "#Exp_j_z_2_out = simplify(J_x_2_exp_in + .Exp_Cov_Jx_Jy + J_z_2_exp_in)\n",
    "delta_phi_fock = STDVD/derive_J_z_out_fock\n",
    "print(\"The expectation value is delta_phi = \", abs(delta_phi_fock))"
   ]
  },
  {
   "cell_type": "code",
   "execution_count": 85,
   "metadata": {},
   "outputs": [
    {
     "name": "stdout",
     "output_type": "stream",
     "text": [
      "(19.975816897474516+0j)\n"
     ]
    }
   ],
   "source": [
    "Exp_photon_number_diff = ((ket2dm(CPADED)/ket2dm(CPADED).tr())*j_x).tr()\n",
    "print(Exp_photon_number_diff)"
   ]
  },
  {
   "cell_type": "code",
   "execution_count": 86,
   "metadata": {},
   "outputs": [
    {
     "data": {
      "text/plain": [
       "28.0"
      ]
     },
     "execution_count": 86,
     "metadata": {},
     "output_type": "execute_result"
    }
   ],
   "source": [
    "2*amp*amp*(2*amp*amp + 3)//ket2dm(CPADED).tr()"
   ]
  },
  {
   "cell_type": "code",
   "execution_count": 87,
   "metadata": {},
   "outputs": [
    {
     "data": {
      "text/plain": [
       "(0.0011219465394845087+0j)"
      ]
     },
     "execution_count": 87,
     "metadata": {},
     "output_type": "execute_result"
    }
   ],
   "source": [
    "1/(Rho_input_MZI_fock*tensor(num(N_dim), num(N_dim))).tr()"
   ]
  },
  {
   "cell_type": "code",
   "execution_count": 88,
   "metadata": {},
   "outputs": [
    {
     "data": {
      "text/plain": [
       "(891.3080657652918+0j)"
      ]
     },
     "execution_count": 88,
     "metadata": {},
     "output_type": "execute_result"
    }
   ],
   "source": [
    "(Rho_input_MZI_fock*tensor(num(N_dim), num(N_dim))).tr()"
   ]
  },
  {
   "cell_type": "code",
   "execution_count": 89,
   "metadata": {},
   "outputs": [
    {
     "name": "stdout",
     "output_type": "stream",
     "text": [
      "The expectation value is J_z = \n",
      "19.162620935368\n",
      "The expectation value is STDVD =  (7.193752115945927+0j)\n",
      "The expectation value is delta_phi =  0.360123050429813\n",
      "The expectation value is J_z = \n",
      "27.162678594917097\n",
      "The expectation value is STDVD =  (242.08078672335782+0j)\n",
      "The expectation value is delta_phi =  45.40311936333205\n",
      "The expectation value is J_z = \n",
      "10.189494821407378\n",
      "The expectation value is STDVD =  (281.4728285351425+0j)\n",
      "The expectation value is delta_phi =  10.936337163951853\n",
      "The expectation value is J_z = \n",
      "16.151863499638697\n",
      "The expectation value is STDVD =  (13.800046757516688+0j)\n",
      "The expectation value is delta_phi =  0.6138773133400918\n",
      "The expectation value is J_z = \n",
      "27.643273007254482\n",
      "The expectation value is STDVD =  (197.19036767879714+0j)\n",
      "The expectation value is delta_phi =  136.43993396128482\n",
      "The expectation value is J_z = \n",
      "13.719584795482914\n",
      "The expectation value is STDVD =  (312.22854564691073+0j)\n",
      "The expectation value is delta_phi =  12.986857282658018\n",
      "The expectation value is J_z = \n",
      "12.81782640614869\n",
      "The expectation value is STDVD =  (33.092677038475+0j)\n",
      "The expectation value is delta_phi =  1.3488210992616876\n",
      "The expectation value is J_z = \n",
      "27.57058712240204\n",
      "The expectation value is STDVD =  (150.37751644684002+0j)\n",
      "The expectation value is delta_phi =  60.87596035944586\n",
      "The expectation value is J_z = \n",
      "16.975077186591296\n",
      "The expectation value is STDVD =  (331.89795526581435+0j)\n",
      "The expectation value is delta_phi =  15.17929279252353\n",
      "The expectation value is J_z = \n",
      "9.227240429985182\n",
      "The expectation value is STDVD =  (63.534803091118796+0j)\n",
      "The expectation value is delta_phi =  2.4344849692469106\n"
     ]
    },
    {
     "data": {
      "image/png": "[encoded data removed]",
      "text/plain": [
       "<Figure size 432x288 with 1 Axes>"
      ]
     },
     "metadata": {},
     "output_type": "display_data"
    }
   ],
   "source": [
    "Delta = []\n",
    "for T in range(10):\n",
    "    j_z_out = J_z(T,j_x,j_z)\n",
    "    delta_jz = derive_Jz(T,j_x,j_z)\n",
    "    j_z_out_square = J_z_square(T,j_x,j_z)\n",
    "    Rho_input_MZI_fock = ket2dm(CPADED)/ket2dm(CPADED).tr()\n",
    "    Rho_input_MZI_fock.tr()\n",
    "#tensor(ket2dm(Fock_state_i),ket2dm(Fock_state_j))\n",
    "    J_z_out_fock = abs((Rho_input_MZI_fock*j_z_out).tr())\n",
    "    print(\"The expectation value is J_z = \")\n",
    "    print(J_z_out_fock)   \n",
    "    derive_J_z_out_fock = (Rho_input_MZI_fock*delta_jz).tr()\n",
    "    j_z_2_out_fock = (Rho_input_MZI_fock*j_z_out_square).tr()\n",
    "#STDVD = math.sqrt(abs((j_z_2_out_fock- J_z_out_fock*J_z_out_fock)))\n",
    "    STDVD = (delta_jz_square(T,j_x,j_z,Rho_input_MZI_fock))\n",
    "    print(\"The expectation value is STDVD = \", STDVD)\n",
    "#Exp_j_z_2_out = simplify(J_x_2_exp_in + .Exp_Cov_Jx_Jy + J_z_2_exp_in)\n",
    "    delta_phi_fock = STDVD/derive_J_z_out_fock\n",
    "    print(\"The expectation value is delta_phi = \", abs(delta_phi_fock))\n",
    "    Delta.append(abs(delta_phi_fock))\n",
    "plt.plot(Delta,'*-')\n",
    "plt.grid()"
   ]
  },
  {
   "cell_type": "code",
   "execution_count": 90,
   "metadata": {},
   "outputs": [
    {
     "name": "stdout",
     "output_type": "stream",
     "text": [
      "The expectation value is J_z = \n",
      "7.2890420950578445\n",
      "The expectation value is STDVD =  (3.3206334163059985+0j)\n",
      "The expectation value is delta_phi =  1.007184079102569\n"
     ]
    }
   ],
   "source": [
    "Rho_input_MZI = ket2dm(tensor(coherent_state_1, fock(N_dim,0)))\n",
    "#tensor(ket2dm(Fock_state_i),ket2dm(Fock_state_j))\n",
    "J_z_out_fock = abs((Rho_input_MZI*j_z_out).tr())\n",
    "print(\"The expectation value is J_z = \")\n",
    "print(J_z_out_fock)   \n",
    "derive_J_z_out_fock = (Rho_input_MZI*delta_jz).tr()\n",
    "j_z_2_out_fock = (Rho_input_MZI*j_z_out_square).tr()\n",
    "#STDVD = math.sqrt(abs((j_z_2_out_fock- J_z_out_fock*J_z_out_fock)))\n",
    "STDVD = (delta_jz_square(T,j_x,j_z,Rho_input_MZI))\n",
    "print(\"The expectation value is STDVD = \", STDVD)\n",
    "#Exp_j_z_2_out = simplify(J_x_2_exp_in + .Exp_Cov_Jx_Jy + J_z_2_exp_in)\n",
    "delta_phi_fock = STDVD/derive_J_z_out_fock\n",
    "print(\"The expectation value is delta_phi = \", abs(delta_phi_fock))"
   ]
  },
  {
   "cell_type": "code",
   "execution_count": 91,
   "metadata": {},
   "outputs": [
    {
     "name": "stdout",
     "output_type": "stream",
     "text": [
      "The expectation value is J_z = \n",
      "21.374454425952912\n",
      "The expectation value is STDVD =  (9.542150561453752+0j)\n",
      "The expectation value is delta_phi =  5.0190095724710755\n",
      "The expectation value is J_z = \n",
      "21.374454425952912\n",
      "The expectation value is STDVD =  (467.2710218526985+0j)\n",
      "The expectation value is delta_phi =  245.77664296042465\n",
      "The expectation value is J_z = \n",
      "21.374454425952912\n",
      "The expectation value is STDVD =  (544.0350495756521+0j)\n",
      "The expectation value is delta_phi =  286.1532213304312\n",
      "The expectation value is J_z = \n",
      "21.374454425952912\n",
      "The expectation value is STDVD =  (22.415963689358783+0j)\n",
      "The expectation value is delta_phi =  11.790417223925612\n",
      "The expectation value is J_z = \n",
      "21.374454425952912\n",
      "The expectation value is STDVD =  (379.7922009147914+0j)\n",
      "The expectation value is delta_phi =  199.76426484417033\n",
      "The expectation value is J_z = \n",
      "21.374454425952912\n",
      "The expectation value is STDVD =  (603.9693056441148+0j)\n",
      "The expectation value is delta_phi =  317.67762486915694\n",
      "The expectation value is J_z = \n",
      "21.374454425952912\n",
      "The expectation value is STDVD =  (60.011882499871454+0j)\n",
      "The expectation value is delta_phi =  31.56523372682732\n",
      "The expectation value is J_z = \n",
      "21.374454425952912\n",
      "The expectation value is STDVD =  (288.5670994861725+0j)\n",
      "The expectation value is delta_phi =  151.78140664347893\n",
      "The expectation value is J_z = \n",
      "21.374454425952912\n",
      "The expectation value is STDVD =  (642.2994615800262+0j)\n",
      "The expectation value is delta_phi =  337.838637663671\n",
      "The expectation value is J_z = \n",
      "21.374454425952912\n",
      "The expectation value is STDVD =  (119.33503765431412+0j)\n",
      "The expectation value is delta_phi =  62.768208535471835\n"
     ]
    },
    {
     "data": {
      "text/plain": [
       "[<matplotlib.lines.Line2D at 0x1a2287cbe0>]"
      ]
     },
     "execution_count": 91,
     "metadata": {},
     "output_type": "execute_result"
    },
    {
     "data": {
      "image/png": "[encoded data removed]",
      "text/plain": [
       "<Figure size 432x288 with 1 Axes>"
      ]
     },
     "metadata": {},
     "output_type": "display_data"
    }
   ],
   "source": [
    "Delta_1 = []\n",
    "for T in range(10):\n",
    "    Rho_input_MZI = ket2dm(tensor(coherent_state_1, coherent_state_2))\n",
    "#tensor(ket2dm(Fock_state_i),ket2dm(Fock_state_j))\n",
    "    J_z_out_fock = abs((Rho_input_MZI*j_z_out).tr())\n",
    "    print(\"The expectation value is J_z = \")\n",
    "    print(J_z_out_fock)   \n",
    "    derive_J_z_out_fock = (Rho_input_MZI*delta_jz).tr()\n",
    "    j_z_2_out_fock = (Rho_input_MZI*j_z_out_square).tr()\n",
    "#STDVD = math.sqrt(abs((j_z_2_out_fock- J_z_out_fock*J_z_out_fock)))\n",
    "    STDVD = (delta_jz_square(T,j_x,j_z,Rho_input_MZI))\n",
    "    print(\"The expectation value is STDVD = \", STDVD)\n",
    "    #Exp_j_z_2_out = simplify(J_x_2_exp_in + .Exp_Cov_Jx_Jy + J_z_2_exp_in)\n",
    "    delta_phi_fock = STDVD/derive_J_z_out_fock\n",
    "    print(\"The expectation value is delta_phi = \", abs(delta_phi_fock))\n",
    "    Delta_1.append(abs(delta_phi_fock))\n",
    "plt.plot(Delta_1,'o-')"
   ]
  },
  {
   "cell_type": "code",
   "execution_count": 92,
   "metadata": {},
   "outputs": [
    {
     "data": {
      "text/plain": [
       "[<matplotlib.lines.Line2D at 0x1a22de3240>,\n",
       " <matplotlib.lines.Line2D at 0x1a22de32b0>]"
      ]
     },
     "execution_count": 92,
     "metadata": {},
     "output_type": "execute_result"
    },
    {
     "data": {
      "image/png": "[encoded data removed]",
      "text/plain": [
       "<Figure size 432x288 with 1 Axes>"
      ]
     },
     "metadata": {},
     "output_type": "display_data"
    }
   ],
   "source": [
    "plt.plot(Delta, 'o-', Delta_1, '-*')"
   ]
  },
  {
   "cell_type": "code",
   "execution_count": 42,
   "metadata": {},
   "outputs": [
    {
     "data": {
      "text/plain": [
       "(13.012877263774193+0j)"
      ]
     },
     "execution_count": 42,
     "metadata": {},
     "output_type": "execute_result"
    }
   ],
   "source": [
    "var_square_jx(j_z,Rho_input_MZI_fock)"
   ]
  },
  {
   "cell_type": "code",
   "execution_count": null,
   "metadata": {
    "collapsed": true
   },
   "outputs": [],
   "source": []
  },
  {
   "cell_type": "code",
   "execution_count": null,
   "metadata": {
    "collapsed": true
   },
   "outputs": [],
   "source": [
    "J_z_out_fock*J_z_out_fock"
   ]
  },
  {
   "cell_type": "code",
   "execution_count": null,
   "metadata": {
    "collapsed": true
   },
   "outputs": [],
   "source": [
    "math.sin(20)"
   ]
  },
  {
   "cell_type": "code",
   "execution_count": null,
   "metadata": {
    "collapsed": true
   },
   "outputs": [],
   "source": [
    "math.cos(20)"
   ]
  },
  {
   "cell_type": "code",
   "execution_count": null,
   "metadata": {
    "collapsed": true
   },
   "outputs": [],
   "source": [
    "0.72*0.90*0.97*0.93"
   ]
  },
  {
   "cell_type": "code",
   "execution_count": 94,
   "metadata": {},
   "outputs": [
    {
     "data": {
      "text/plain": [
       "0.17677669529663687"
      ]
     },
     "execution_count": 94,
     "metadata": {},
     "output_type": "execute_result"
    }
   ],
   "source": [
    "1/math.sqrt(32)"
   ]
  },
  {
   "cell_type": "code",
   "execution_count": 95,
   "metadata": {},
   "outputs": [
    {
     "data": {
      "text/plain": [
       "range(0, 10)"
      ]
     },
     "execution_count": 95,
     "metadata": {},
     "output_type": "execute_result"
    }
   ],
   "source": [
    "range(10)"
   ]
  },
  {
   "cell_type": "code",
   "execution_count": 96,
   "metadata": {},
   "outputs": [
    {
     "name": "stdout",
     "output_type": "stream",
     "text": [
      "range(0, 10)\n"
     ]
    }
   ],
   "source": [
    "print(range(10))"
   ]
  },
  {
   "cell_type": "code",
   "execution_count": 98,
   "metadata": {},
   "outputs": [
    {
     "data": {
      "text/plain": [
       "2.23606797749979"
      ]
     },
     "execution_count": 98,
     "metadata": {},
     "output_type": "execute_result"
    }
   ],
   "source": [
    "math.sqrt(5)"
   ]
  },
  {
   "cell_type": "code",
   "execution_count": null,
   "metadata": {
    "collapsed": true
   },
   "outputs": [],
   "source": []
  }
 ],
 "metadata": {
  "kernelspec": {
   "display_name": "Python 3",
   "language": "python",
   "name": "python3"
  },
  "language_info": {
   "codemirror_mode": {
    "name": "ipython",
    "version": 3
   },
   "file_extension": ".py",
   "mimetype": "text/x-python",
   "name": "python",
   "nbconvert_exporter": "python",
   "pygments_lexer": "ipython3",
   "version": "3.7.3"
  }
 },
 "nbformat": 4,
 "nbformat_minor": 2
}
