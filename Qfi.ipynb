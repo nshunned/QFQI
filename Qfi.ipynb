{
 "cells": [
  {
   "cell_type": "markdown",
   "metadata": {},
   "source": [
    "# Interferometry with coherent states using quantum Fisher information"
   ]
  },
  {
   "cell_type": "code",
   "execution_count": 7,
   "metadata": {},
   "outputs": [],
   "source": [
    "%matplotlib inline\n",
    "\n",
    "from math import *\n",
    "from qutip import *\n",
    "from pylab import *\n",
    "\n",
    "from scipy.optimize import minimize as cp_minimize\n",
    "\n",
    "import sympy as sp\n",
    "import numpy as np\n",
    "import matplotlib.pyplot as plt"
   ]
  },
  {
   "cell_type": "markdown",
   "metadata": {},
   "source": [
    "### Symbols & operators"
   ]
  },
  {
   "cell_type": "code",
   "execution_count": 8,
   "metadata": {},
   "outputs": [],
   "source": [
    "T = sp.symbols('T')\n",
    "N = 60 # dimension of the Hilbert space\n",
    "\n",
    "# operators\n",
    "I = qeye(N) # identity operator\n",
    "a = destroy(N) # annihilation operator\n",
    "n = num(N); n_a = tensor(n, I); n_b = tensor(I, n) # number operators\n",
    "D_n = n_a - n_b # ΔN = n_1 - n_2\n",
    "S_n = n_a + n_b # ΣN = n_1 + n_2\n",
    "U = (1j*np.pi/4*(tensor(a.dag(), a) + tensor(a, a.dag()))).expm() # beam splitter operator\n",
    "\n",
    "# Schwinger representation\n",
    "Jx = 1/2*(tensor(a.dag(), a) + tensor(a.dag(), a))\n",
    "Jy = -1j/2*(tensor(a.dag(), a) - tensor(a, a.dag()))\n",
    "Jz = 1/2*(tensor(a.dag()*a, I) - tensor(I, a.dag()*a))\n",
    "\n",
    "# Parity operator\n",
    "Pa = (1j*np.pi*tensor(a.dag()*a,I)).expm()\n",
    "Pb = (1j*np.pi*tensor(I,a.dag()*a)).expm()\n",
    "P = (1j*np.pi*a.dag()*a).expm()"
   ]
  },
  {
   "cell_type": "markdown",
   "metadata": {},
   "source": [
    "### Helper functions"
   ]
  },
  {
   "cell_type": "code",
   "execution_count": 9,
   "metadata": {},
   "outputs": [],
   "source": [
    "# returns QFI (quantum Fisher information)\n",
    "def qfi(rho_in):\n",
    "    return np.abs(4*((rho_in*Jy**2).tr() - (rho_in*Jy).tr()**2))"
   ]
  },
  {
   "cell_type": "markdown",
   "metadata": {},
   "source": [
    "#### Functions for input states"
   ]
  },
  {
   "cell_type": "code",
   "execution_count": 10,
   "metadata": {},
   "outputs": [],
   "source": [
    "# returns ρ_in given pure state ψ_in\n",
    "def rho_in(psi_in):\n",
    "    return psi_in*psi_in.dag()\n",
    "\n",
    "# |ψ_in_1> = |0>|α>\n",
    "def psi_in_1(alpha):\n",
    "    return tensor(fock(N, 0),coherent(N, alpha))\n",
    "\n",
    "# |ψ_in_2> = |β>|β>\n",
    "def psi_in_2(beta):\n",
    "    return tensor(coherent(N, beta),coherent(N, beta))\n",
    "    \n",
    "# |ψ_in_3> = N(|γδ>+|δγ>)\n",
    "def psi_in_3(gamma, delta):\n",
    "    temp = tensor(coherent(N, gamma), coherent(N, delta)) + tensor(coherent(N, delta), coherent(N, gamma))\n",
    "    return temp.unit()\n",
    "\n",
    "# |ψ_in_4> = N(a_1†|α_1,α_2>+a_2†|α_1,α_2>)\n",
    "def psi_in_4(alpha_1, alpha_2):\n",
    "    psi_alphas = tensor(coherent(N, alpha_1),coherent(N, alpha_2)) # |α_1,α_2>\n",
    "    temp = tensor(a.dag(), I)*psi_alphas + tensor(I, a.dag())*psi_alphas\n",
    "    return temp.unit()\n",
    "    \n",
    "# |ψ_in_5> = N(a_1†²|α_1,α_2>+a_2†²|α_1,α_2>)    \n",
    "def psi_in_5(alpha_1, alpha_2):\n",
    "    psi_alphas = tensor(coherent(N, alpha_1), coherent(N, alpha_2)) # |α_1,α_2>\n",
    "    temp = tensor(a.dag()**2, I)*psi_alphas + tensor(I, a.dag()**2)*psi_alphas\n",
    "    return temp.unit()"
   ]
  },
  {
   "cell_type": "markdown",
   "metadata": {},
   "source": [
    "## QFIs"
   ]
  },
  {
   "cell_type": "markdown",
   "metadata": {},
   "source": [
    "### Calculating QFIs for states 1,2"
   ]
  },
  {
   "cell_type": "code",
   "execution_count": 11,
   "metadata": {},
   "outputs": [],
   "source": [
    "n_1_avgs = []; qfi_1_vals = []\n",
    "n_2_avgs = []; qfi_2_vals = []\n",
    "\n",
    "alphas = [0.5*n for n in range (4,14)]\n",
    "    \n",
    "for alpha in alphas:\n",
    "    beta = np.sqrt(alpha**2/2)\n",
    "\n",
    "    rho_in_1 = rho_in(psi_in_1(alpha))\n",
    "    rho_in_2 = rho_in(psi_in_2(beta))\n",
    "\n",
    "    n_1_avg = np.abs((rho_in_1*S_n).tr())\n",
    "    n_1_avgs.append(n_1_avg)\n",
    "\n",
    "    n_2_avg = np.abs((rho_in_2*S_n).tr())\n",
    "    n_2_avgs.append(n_2_avg)\n",
    "    \n",
    "    qfi_1_vals.append(1/np.sqrt(qfi(rho_in_1)))\n",
    "    qfi_2_vals.append(1/np.sqrt(qfi(rho_in_2)))"
   ]
  },
  {
   "cell_type": "markdown",
   "metadata": {},
   "source": [
    "### Calculating QFIs for states 3,4,5"
   ]
  },
  {
   "cell_type": "code",
   "execution_count": 12,
   "metadata": {},
   "outputs": [],
   "source": [
    "def get_n_avgs_qfis(alpha_1s, alpha_2s):\n",
    "    n_3_avgs = []; qfi_3_vals = []\n",
    "    n_4_avgs = []; qfi_4_vals = []\n",
    "    n_5_avgs = []; qfi_5_vals = []\n",
    "    \n",
    "    for alpha_1,alpha_2 in zip(alpha_1s,alpha_2s):\n",
    "        rho_in_3 = rho_in(psi_in_3(alpha_1, alpha_2))\n",
    "        rho_in_4 = rho_in(psi_in_4(alpha_1, alpha_2))\n",
    "        rho_in_5 = rho_in(psi_in_5(alpha_1, alpha_2))\n",
    "    \n",
    "        # <n>'s\n",
    "        n_3_avgs.append(np.abs((rho_in_3*S_n).tr()))\n",
    "        n_4_avgs.append(np.abs((rho_in_4*S_n).tr()))\n",
    "        n_5_avgs.append(np.abs((rho_in_5*S_n).tr()))\n",
    "    \n",
    "        # qfi's\n",
    "        qfi_3_vals.append(1/np.sqrt(qfi(rho_in_3)))\n",
    "        qfi_4_vals.append(1/np.sqrt(qfi(rho_in_4)))\n",
    "        qfi_5_vals.append(1/np.sqrt(qfi(rho_in_5)))\n",
    "        \n",
    "    return [n_3_avgs, n_4_avgs, n_5_avgs], [qfi_3_vals, qfi_4_vals, qfi_5_vals]"
   ]
  },
  {
   "cell_type": "code",
   "execution_count": 14,
   "metadata": {},
   "outputs": [],
   "source": [
    "alpha_1s_1 = [0.5, 1, 1, 2, 2, 3, 3, 4]\n",
    "alpha_2s_1 = [0.7, 1, 2, 2, 3, 3, 4, 4]\n",
    "n_avgs_1, qfi_vals_1 = get_n_avgs_qfis(alpha_1s_1, alpha_2s_1)\n",
    "\n",
    "alpha_1s_2 = [0.5, 1, 1.5, 2, 2.5, 3, 3.5, 4, 4.5]\n",
    "alpha_2s_2 = [-0.5, -1, -1.5, -2, -2.5, -3, -3.5, -4, -4.5]\n",
    "n_avgs_2, qfi_vals_2 = get_n_avgs_qfis(alpha_1s_2, alpha_2s_2)"
   ]
  },
  {
   "cell_type": "markdown",
   "metadata": {},
   "source": [
    "### Plotting QFIs vs. $\\langle n \\rangle$"
   ]
  },
  {
   "cell_type": "code",
   "execution_count": 16,
   "metadata": {},
   "outputs": [
    {
     "data": {
      "image/png": "[encoded data removed]",
      "text/plain": [
       "<Figure size 1080x360 with 2 Axes>"
      ]
     },
     "metadata": {},
     "output_type": "display_data"
    }
   ],
   "source": [
    "plt.subplot(1, 2, 1)\n",
    "\n",
    "# QFI limits\n",
    "# plt.plot(n_1_avgs, qfi_1_vals, 'c-', label=r'$1/\\sqrt{QFI_1}$')\n",
    "plt.plot(n_2_avgs, qfi_2_vals, 'm-', label=r'$1/\\sqrt{QFI_2}$')\n",
    "plt.plot(n_avgs_1[0], qfi_vals_1[0], 'k-', label=r'$1/\\sqrt{QFI_3}$')\n",
    "plt.plot(n_avgs_1[1], qfi_vals_1[1], 'b-', label=r'$1/\\sqrt{QFI_4}$')\n",
    "plt.plot(n_avgs_1[2], qfi_vals_1[2], 'y-', label=r'$1/\\sqrt{QFI_5}$')\n",
    "\n",
    "# SN & Heisenberg limits\n",
    "x = arange(n_avgs_1[0][0], plt.xlim()[1])\n",
    "plt.plot(x, 1/sqrt(x), 'r--', label=r'$1/\\sqrt{\\langle n_5 \\rangle}$')\n",
    "plt.plot(x, 1/array(x), 'g--', label=r'$1/\\langle n_5 \\rangle$')\n",
    "\n",
    "plt.xlabel(r'$\\langle n \\rangle$')\n",
    "plt.ylim(0,2.2)\n",
    "plt.legend(loc='best', prop={'size': 12})\n",
    "\n",
    "#---------------------------------------------------------------------------------\n",
    "\n",
    "plt.subplot(1, 2, 2)\n",
    "\n",
    "# QFI limits\n",
    "# plt.plot(n_1_avgs, qfi_1_vals, 'c-', label=r'$1/\\sqrt{QFI_1}$')\n",
    "plt.plot(n_2_avgs, qfi_2_vals, 'm-', label=r'$1/\\sqrt{QFI_2}$')\n",
    "plt.plot(n_avgs_2[0], qfi_vals_2[0], 'k-', label=r'$1/\\sqrt{QFI_3}$')\n",
    "plt.plot(n_avgs_2[1], qfi_vals_2[1], 'b-', label=r'$1/\\sqrt{QFI_4}$')\n",
    "plt.plot(n_avgs_2[2], qfi_vals_2[2], 'y-', label=r'$1/\\sqrt{QFI_5}$')\n",
    "\n",
    "# SN & Heisenberg limits\n",
    "x = arange(n_avgs_2[0][0], plt.xlim()[1])\n",
    "plt.plot(x, 1/sqrt(x), 'r--', label=r'$1/\\sqrt{\\langle n_5 \\rangle}$')\n",
    "plt.plot(x, 1/array(x), 'g--', label=r'$1/\\langle n_5 \\rangle$')\n",
    "\n",
    "plt.xlabel(r'$\\langle n \\rangle$')\n",
    "plt.ylim(0,2.2)\n",
    "plt.legend(loc='best', prop={'size': 12})\n",
    "\n",
    "#---------------------------------------------------------------------------------\n",
    "plt.rcParams[\"figure.figsize\"] = [15, 5]"
   ]
  },
  {
   "cell_type": "code",
   "execution_count": null,
   "metadata": {},
   "outputs": [],
   "source": []
  }
 ],
 "metadata": {
  "kernelspec": {
   "display_name": "Python 3",
   "language": "python",
   "name": "python3"
  },
  "language_info": {
   "codemirror_mode": {
    "name": "ipython",
    "version": 3
   },
   "file_extension": ".py",
   "mimetype": "text/x-python",
   "name": "python",
   "nbconvert_exporter": "python",
   "pygments_lexer": "ipython3",
   "version": "3.6.6"
  }
 },
 "nbformat": 4,
 "nbformat_minor": 2
}
