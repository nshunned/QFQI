{
 "cells": [
  {
   "cell_type": "markdown",
   "metadata": {},
   "source": [
    "# $\\Delta\\phi_{min}$ vs. $\\langle n \\rangle$ plots using parity operator"
   ]
  },
  {
   "cell_type": "code",
   "execution_count": 2,
   "metadata": {},
   "outputs": [],
   "source": [
    "%matplotlib inline\n",
    "\n",
    "from math import *\n",
    "from qutip import *\n",
    "from pylab import *\n",
    "\n",
    "from scipy.optimize import minimize as cp_minimize\n",
    "\n",
    "import sympy as sp\n",
    "import numpy as np\n",
    "import matplotlib.pyplot as plt"
   ]
  },
  {
   "cell_type": "markdown",
   "metadata": {},
   "source": [
    "### Symbols & operators"
   ]
  },
  {
   "cell_type": "code",
   "execution_count": 3,
   "metadata": {},
   "outputs": [],
   "source": [
    "N = 10 # dimension of the Hilbert space\n",
    "I = qeye(N) # identity operator\n",
    "n = num(N); n_a = tensor(n, I); n_b = tensor(I, n) # number operators\n",
    "S_n = n_a + n_b # ΣN = n_1 + n_2\n",
    "a = destroy(N) # annihilation operator"
   ]
  },
  {
   "cell_type": "markdown",
   "metadata": {},
   "source": [
    "### Functions for input states"
   ]
  },
  {
   "cell_type": "code",
   "execution_count": 4,
   "metadata": {},
   "outputs": [],
   "source": [
    "# returns ρ_in given pure state ψ_in\n",
    "def rho(psi):\n",
    "    return psi*psi.dag()\n",
    "\n",
    "# |ψ_in_4> = N(a_1†|α_1,α_2>+a_2†|α_1,α_2>)\n",
    "def psi_in_4(alpha_1, alpha_2):\n",
    "    psi_alphas = tensor(coherent(N, alpha_1),coherent(N, alpha_2)) # |α_1,α_2>\n",
    "    temp = tensor(a.dag(), I)*psi_alphas + tensor(I, a.dag())*psi_alphas\n",
    "    return temp.unit()"
   ]
  },
  {
   "cell_type": "markdown",
   "metadata": {},
   "source": [
    "### Helper functions"
   ]
  },
  {
   "cell_type": "code",
   "execution_count": 5,
   "metadata": {},
   "outputs": [],
   "source": [
    "def make_plot(n_avgs, phi_std_dev_mins, phi_l_std_dev_mins, plot_name):\n",
    "    plt.plot(n_avgs, phi_std_dev_mins, 'bo-', label=r'$\\Delta\\phi_{min}$')\n",
    "    plt.plot(n_avgs, phi_l_std_dev_mins, 'ro-', label=r'$\\Delta\\phi_{min,loss}$')\n",
    "    plt.plot(n_avgs, 1/np.sqrt(n_avgs), 'yo-', label=r'$1/\\sqrt{\\langle n \\rangle}$')\n",
    "    plt.plot(n_avgs, 1/np.array(n_avgs), 'g.-', label=r'$1/\\langle n \\rangle$')\n",
    "\n",
    "    plt.yscale('log')\n",
    "    plt.xlabel(r'$\\langle n \\rangle$')\n",
    "    plt.legend(loc='best')\n",
    "    \n",
    "    plt.savefig(plot_name)"
   ]
  },
  {
   "cell_type": "code",
   "execution_count": 6,
   "metadata": {},
   "outputs": [],
   "source": [
    "n_4_avgs = []; phi_4_std_dev_mins = [];\n",
    "\n",
    "file = open(\"parity_numerical_Heisenberg_2_345.txt\", \"r\")\n",
    "\n",
    "for line in file:\n",
    "    if not line.startswith('#'):\n",
    "        data = line.split()\n",
    "        alpha_1 = float(data[0])\n",
    "        alpha_2 = float(data[1])\n",
    "        rho_in_4 = rho(psi_in_4(alpha_1,alpha_2))\n",
    "        n_4_avgs.append(np.abs((rho_in_4*S_n).tr()))\n",
    "        \n",
    "        phi_4_std_dev_mins.append(float(data[3]))"
   ]
  },
  {
   "cell_type": "code",
   "execution_count": 8,
   "metadata": {},
   "outputs": [],
   "source": [
    "phi_4_l_std_dev_mins = []\n",
    "\n",
    "file_l = open(\"parity_numerical_Heisenberg_2_loss_4_5%.txt\", \"r\")\n",
    "\n",
    "for line in file_l:\n",
    "    if not line.startswith('#'):\n",
    "        data = line.split()\n",
    "        phi_4_l_std_dev_mins.append(float(data[2]))"
   ]
  },
  {
   "cell_type": "code",
   "execution_count": 9,
   "metadata": {},
   "outputs": [
    {
     "data": {
      "image/png": "[encoded data removed]",
      "text/plain": [
       "<Figure size 432x288 with 1 Axes>"
      ]
     },
     "metadata": {},
     "output_type": "display_data"
    }
   ],
   "source": [
    "make_plot(n_4_avgs, phi_4_std_dev_mins, phi_4_l_std_dev_mins, \"parity_numerical_Heisenberg_2/loss_4.png\")"
   ]
  },
  {
   "cell_type": "code",
   "execution_count": null,
   "metadata": {},
   "outputs": [],
   "source": []
  }
 ],
 "metadata": {
  "kernelspec": {
   "display_name": "Python 3",
   "language": "python",
   "name": "python3"
  },
  "language_info": {
   "codemirror_mode": {
    "name": "ipython",
    "version": 3
   },
   "file_extension": ".py",
   "mimetype": "text/x-python",
   "name": "python",
   "nbconvert_exporter": "python",
   "pygments_lexer": "ipython3",
   "version": "3.6.6"
  }
 },
 "nbformat": 4,
 "nbformat_minor": 2
}
