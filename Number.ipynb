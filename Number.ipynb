{
 "cells": [
  {
   "cell_type": "markdown",
   "metadata": {},
   "source": [
    "# Interferometry with coherent states using number operator"
   ]
  },
  {
   "cell_type": "code",
   "execution_count": 2,
   "metadata": {},
   "outputs": [],
   "source": [
    "%matplotlib inline\n",
    "\n",
    "from math import *\n",
    "from qutip import *\n",
    "from pylab import *\n",
    "\n",
    "from scipy.optimize import minimize as cp_minimize\n",
    "\n",
    "import sympy as sp\n",
    "import numpy as np\n",
    "import matplotlib.pyplot as plt"
   ]
  },
  {
   "cell_type": "markdown",
   "metadata": {},
   "source": [
    "### Symbols & operators"
   ]
  },
  {
   "cell_type": "code",
   "execution_count": 3,
   "metadata": {},
   "outputs": [],
   "source": [
    "T = sp.symbols('T')\n",
    "N = 60 # dimension of the Hilbert space\n",
    "\n",
    "# operators\n",
    "I = qeye(N) # identity operator\n",
    "a = destroy(N) # annihilation operator\n",
    "n = num(N); n_a = tensor(n, I); n_b = tensor(I, n) # number operators\n",
    "D_n = n_a - n_b # ΔN = n_1 - n_2\n",
    "S_n = n_a + n_b # ΣN = n_1 + n_2\n",
    "U = (1j*np.pi/4*(tensor(a.dag(), a) + tensor(a, a.dag()))).expm() # beam splitter operator\n",
    "\n",
    "# Schwinger representation\n",
    "Jx = 1/2*(tensor(a.dag(), a) + tensor(a, a.dag()))\n",
    "Jy = -1j/2*(tensor(a.dag(), a) - tensor(a, a.dag()))\n",
    "Jz = 1/2*(tensor(a.dag()*a, I) - tensor(I, a.dag()*a))\n",
    "\n",
    "# Parity operator\n",
    "Pa = (1j*np.pi*tensor(a.dag()*a,I)).expm()\n",
    "Pb = (1j*np.pi*tensor(I,a.dag()*a)).expm()\n",
    "P = (1j*np.pi*a.dag()*a).expm()"
   ]
  },
  {
   "cell_type": "markdown",
   "metadata": {},
   "source": [
    "### Functions for input states"
   ]
  },
  {
   "cell_type": "code",
   "execution_count": 4,
   "metadata": {},
   "outputs": [],
   "source": [
    "# returns ρ_in given pure state ψ_in\n",
    "def rho(psi):\n",
    "    return psi*psi.dag()\n",
    "\n",
    "# |ψ_in_1> = |0>|α>\n",
    "def psi_in_1(alpha):\n",
    "    return tensor(fock(N, 0),coherent(N, alpha))\n",
    "\n",
    "# |ψ_in_2> = |β>|β>\n",
    "def psi_in_2(beta):\n",
    "    return tensor(coherent(N, beta),coherent(N, beta))\n",
    "    \n",
    "# |ψ_in_3> = N(|γδ>+|δγ>)\n",
    "def psi_in_3(gamma, delta):\n",
    "    temp = tensor(coherent(N, gamma), coherent(N, delta)) + tensor(coherent(N, delta), coherent(N, gamma))\n",
    "    return temp.unit()\n",
    "\n",
    "# |ψ_in_4> = N(a_1†|α_1,α_2>+a_2†|α_1,α_2>)\n",
    "def psi_in_4(alpha_1, alpha_2):\n",
    "    psi_alphas = tensor(coherent(N, alpha_1),coherent(N, alpha_2)) # |α_1,α_2>\n",
    "    temp = tensor(a.dag(), I)*psi_alphas + tensor(I, a.dag())*psi_alphas\n",
    "    return temp.unit()\n",
    "    \n",
    "# |ψ_in_5> = N(a_1†²|α_1,α_2>+a_2†²|α_1,α_2>)\n",
    "def psi_in_5(alpha_1, alpha_2):\n",
    "    psi_alphas = tensor(coherent(N, alpha_1), coherent(N, alpha_2)) # |α_1,α_2>\n",
    "    temp = tensor(a.dag()**2, I)*psi_alphas + tensor(I, a.dag()**2)*psi_alphas\n",
    "    return temp.unit()"
   ]
  },
  {
   "cell_type": "markdown",
   "metadata": {},
   "source": [
    "#### Input states 1,2,3"
   ]
  },
  {
   "cell_type": "code",
   "execution_count": null,
   "metadata": {},
   "outputs": [],
   "source": [
    "alpha = 0.75\n",
    "beta = np.sqrt(alpha**2/2)\n",
    "gamma = 0.3\n",
    "delta = 0.750905\n",
    "\n",
    "rho_in_1 = rho(psi_in_1(alpha))\n",
    "rho_in_2 = rho(psi_in_2(beta))\n",
    "rho_in_3 = rho(psi_in_3(gamma, delta))"
   ]
  },
  {
   "cell_type": "markdown",
   "metadata": {},
   "source": [
    "#### Checking that $\\langle N \\rangle = \\lvert \\alpha \\rvert^2$"
   ]
  },
  {
   "cell_type": "code",
   "execution_count": null,
   "metadata": {},
   "outputs": [],
   "source": [
    "print('α² =', alpha**2)\n",
    "\n",
    "print('<N_1> =', np.abs((rho_in_1*S_n).tr()))\n",
    "print('<N_2> =', np.abs((rho_in_2*S_n).tr()))\n",
    "print('<N_3> =', np.abs((rho_in_3*S_n).tr()))"
   ]
  },
  {
   "cell_type": "markdown",
   "metadata": {},
   "source": [
    "### Helper functions"
   ]
  },
  {
   "cell_type": "code",
   "execution_count": 5,
   "metadata": {},
   "outputs": [],
   "source": [
    "# returns an np-array matrix given Qobj\n",
    "def Qobj_to_np_array(Qobj):\n",
    "    M = []\n",
    "    for i in Qobj:\n",
    "        M.append(i)\n",
    "    return np.resize(np.asarray(M), np.shape(Qobj))\n",
    "\n",
    "# returns the minimum value of expr(var)\n",
    "def minimizer(expr, var):\n",
    "    f = sp.lambdify(var, expr)\n",
    "    res = cp_minimize(f, 1)\n",
    "    return res.fun\n",
    "\n",
    "# differentiation using forward difference (fd)\n",
    "def der_fd_abs(func, d_t):\n",
    "    der = []\n",
    "    for i in range(0, len(func)-1):\n",
    "        der.append(abs((func[i+1]-func[i])/d_t))\n",
    "    return der\n",
    "\n",
    "# differentiation using central difference (cd)\n",
    "def der_cd_abs(func, d_t):\n",
    "    der = []\n",
    "    for i in range(1, len(func)-1):\n",
    "        der.append(abs((func[i+1]-func[i-1])/(2*d_t)))\n",
    "    return der"
   ]
  },
  {
   "cell_type": "markdown",
   "metadata": {},
   "source": [
    "## Numerical Schrödinger picture"
   ]
  },
  {
   "cell_type": "markdown",
   "metadata": {},
   "source": [
    "### Functions returning $\\Delta\\phi$ using $\\hat{J_z}$"
   ]
  },
  {
   "cell_type": "code",
   "execution_count": 5,
   "metadata": {},
   "outputs": [],
   "source": [
    "def phi_std_dev_num(psi_in, t_min, t_max, d_t):\n",
    "    D_phi = [] # Δφ\n",
    "    rho_in = rho(psi_in)\n",
    "    \n",
    "    # ΔJz\n",
    "    Jz_std_dev = sqrt((rho_in*(Jz**2)).tr()-((rho_in*Jz).tr())**2)\n",
    "    \n",
    "    # |d<P_a>_out/dφ|\n",
    "    result = []\n",
    "    for t in arange(t_min, t_max, d_t):\n",
    "        F = (1j*t*a.dag()*a).expm() # phase shift operator\n",
    "        \n",
    "        psi_out_1 = U*psi_in\n",
    "        psi_out_mirror = tensor(I,F)*psi_out_1\n",
    "        psi_out_2 = U*psi_out_mirror\n",
    "    \n",
    "        rho_out = rho(psi_out_2)\n",
    "        result.append((rho_out*Jz).tr())\n",
    "    \n",
    "    return Jz_std_dev/der_cd_abs(result, d_t)"
   ]
  },
  {
   "cell_type": "markdown",
   "metadata": {},
   "source": [
    "#### Caculating & plotting $\\Delta\\phi_\\text{min}$ vs. $\\langle n \\rangle$ using $\\hat{J_z}$"
   ]
  },
  {
   "cell_type": "code",
   "execution_count": 6,
   "metadata": {},
   "outputs": [
    {
     "data": {
      "text/plain": [
       "86"
      ]
     },
     "execution_count": 6,
     "metadata": {},
     "output_type": "execute_result"
    }
   ],
   "source": [
    "file = open(\"number_numerical_Schrödinger_1_12.txt\",\"w+\")\n",
    "file.write(\"# Δφ_min calculated using number operator and numerical Schrödinger method\\n\")\n",
    "file.write(\"# |ψ_in_1> = |0>|α>\\n\")\n",
    "file.write(\"# |ψ_in_2> = |β>|β>\\n\")\n",
    "file.write(\"# ------------------------------------------------------------------------------------------------\\n\")\n",
    "file.write(\"# %-10s %-30s %-10s %-30s\\n\" % (\"alpha\",\"Δφ_min_1\",\"beta\",\"Δφ_min_2\"))"
   ]
  },
  {
   "cell_type": "code",
   "execution_count": 7,
   "metadata": {},
   "outputs": [
    {
     "name": "stdout",
     "output_type": "stream",
     "text": [
      "alpha = 2.0\n",
      "alpha = 2.5\n",
      "alpha = 3.0\n",
      "alpha = 3.5\n",
      "alpha = 4.0\n",
      "alpha = 4.5\n",
      "alpha = 5.0\n",
      "alpha = 5.5\n",
      "alpha = 6.0\n",
      "alpha = 6.5\n"
     ]
    }
   ],
   "source": [
    "n_1_avgs = []; phi_1_std_dev_mins = []\n",
    "n_2_avgs = []; phi_2_std_dev_mins = []\n",
    "\n",
    "t_min = -0.01; t_max = 2*np.pi; d_t = 0.09\n",
    "alphas = [0.5*n for n in range (4,14)] # = {2, 2.5, 3 ... 6.5}\n",
    "\n",
    "for alpha in alphas:\n",
    "    beta = np.sqrt(alpha**2/2)\n",
    "    \n",
    "    rho_in_1 = rho(psi_in_1(alpha))\n",
    "    rho_in_2 = rho(psi_in_2(beta))\n",
    "    \n",
    "    # <n>'s\n",
    "    n_1_avgs.append(np.abs((rho_in_1*S_n).tr()))\n",
    "    n_2_avgs.append(np.abs((rho_in_2*S_n).tr()))\n",
    "    \n",
    "    # Δφ_min's\n",
    "    phi_1_std_dev = phi_std_dev_num(rho_in_1, t_min, t_max, d_t)\n",
    "    min_1 = np.amin(phi_1_std_dev)\n",
    "    phi_1_std_dev_mins.append(min_1)\n",
    "    \n",
    "    phi_2_std_dev = phi_std_dev_num(rho_in_2, t_min, t_max, d_t)\n",
    "    min_2 = np.amin(phi_2_std_dev)\n",
    "    phi_2_std_dev_mins.append(min_2)\n",
    "\n",
    "    file.write(\"  %-10.8f %-30.25f %-10.8f %-30.25f\\n\" % (alpha,min_1,beta,min_2))\n",
    "    print(\"alpha =\", alpha)\n",
    "\n",
    "file.close()"
   ]
  },
  {
   "cell_type": "code",
   "execution_count": 8,
   "metadata": {},
   "outputs": [
    {
     "data": {
      "text/plain": [
       "117"
      ]
     },
     "execution_count": 8,
     "metadata": {},
     "output_type": "execute_result"
    }
   ],
   "source": [
    "file = open(\"number_numerical_Schrödinger_1_345.txt\",\"w+\")\n",
    "file.write(\"# Δφ_min calculated using number operator and numerical Schrödinger method\\n\")\n",
    "file.write(\"# |ψ_in_3> = N(|α_1,α_2>+|α_2,α_1>)\\n\")\n",
    "file.write(\"# |ψ_in_4> = N(a_1†|α_1,α_2>+a_2†|α_1,α_2>)\\n\")\n",
    "file.write(\"# |ψ_in_5> = N(a_1†²|α_1,α_2>+a_2†²|α_1,α_2>)\\n\")\n",
    "file.write(\"# ------------------------------------------------------------------------------------------------\\n\")\n",
    "file.write(\"# %-10s %-10s %-30s %-30s %-30s\\n\" % (\"alpha_1\",\"alpha_2\",\"Δφ_min_3\",\"Δφ_min_4\",\"Δφ_min_5\"))"
   ]
  },
  {
   "cell_type": "code",
   "execution_count": 1,
   "metadata": {},
   "outputs": [
    {
     "ename": "NameError",
     "evalue": "name 'np' is not defined",
     "output_type": "error",
     "traceback": [
      "\u001b[0;31m---------------------------------------------------------------------------\u001b[0m",
      "\u001b[0;31mNameError\u001b[0m                                 Traceback (most recent call last)",
      "\u001b[0;32m<ipython-input-1-710db23e2ba4>\u001b[0m in \u001b[0;36m<module>\u001b[0;34m()\u001b[0m\n\u001b[1;32m      3\u001b[0m \u001b[0mn_5_avgs\u001b[0m \u001b[0;34m=\u001b[0m \u001b[0;34m[\u001b[0m\u001b[0;34m]\u001b[0m\u001b[0;34m;\u001b[0m \u001b[0mphi_5_std_dev_mins\u001b[0m \u001b[0;34m=\u001b[0m \u001b[0;34m[\u001b[0m\u001b[0;34m]\u001b[0m\u001b[0;34m\u001b[0m\u001b[0m\n\u001b[1;32m      4\u001b[0m \u001b[0;34m\u001b[0m\u001b[0m\n\u001b[0;32m----> 5\u001b[0;31m \u001b[0mt_min\u001b[0m \u001b[0;34m=\u001b[0m \u001b[0;34m-\u001b[0m\u001b[0;36m0.01\u001b[0m\u001b[0;34m;\u001b[0m \u001b[0mt_max\u001b[0m \u001b[0;34m=\u001b[0m \u001b[0;36m2\u001b[0m\u001b[0;34m*\u001b[0m\u001b[0mnp\u001b[0m\u001b[0;34m.\u001b[0m\u001b[0mpi\u001b[0m\u001b[0;34m;\u001b[0m \u001b[0md_t\u001b[0m \u001b[0;34m=\u001b[0m \u001b[0;36m0.09\u001b[0m\u001b[0;34m\u001b[0m\u001b[0m\n\u001b[0m\u001b[1;32m      6\u001b[0m \u001b[0;31m#alpha_1s = [0.5, 1, 1.5, 2, 2.5, 3, 3.5, 4, 4.5]\u001b[0m\u001b[0;34m\u001b[0m\u001b[0;34m\u001b[0m\u001b[0m\n\u001b[1;32m      7\u001b[0m \u001b[0;31m#alpha_2s = [-0.5, -1, -1.5, -2, -2.5, -3, -3.5, -4, -4.5]\u001b[0m\u001b[0;34m\u001b[0m\u001b[0;34m\u001b[0m\u001b[0m\n",
      "\u001b[0;31mNameError\u001b[0m: name 'np' is not defined"
     ]
    }
   ],
   "source": [
    "n_3_avgs = []; phi_3_std_dev_mins = []\n",
    "n_4_avgs = []; phi_4_std_dev_mins = []\n",
    "n_5_avgs = []; phi_5_std_dev_mins = []\n",
    "\n",
    "t_min = -0.01; t_max = 2*np.pi; d_t = 0.09\n",
    "#alpha_1s = [0.5, 1, 1.5, 2, 2.5, 3, 3.5, 4, 4.5]\n",
    "#alpha_2s = [-0.5, -1, -1.5, -2, -2.5, -3, -3.5, -4, -4.5]\n",
    "alpha_1s = [0.5, 1, 1.5, 2, 2.5, 3, 3.5, 4]\n",
    "alpha_2s = [-0.5, -1, -1.5, -2, -2.5, -3, -3.5, -4]\n",
    "\n",
    "for alpha_1,alpha_2 in zip(alpha_1s,alpha_2s):\n",
    "    rho_in_3 = rho(psi_in_3(alpha_1, alpha_2))\n",
    "    rho_in_4 = rho(psi_in_4(alpha_1, alpha_2))\n",
    "    rho_in_5 = rho(psi_in_5(alpha_1, alpha_2))\n",
    "\n",
    "    # <n>'s\n",
    "    n_3_avgs.append(np.abs((rho_in_3*S_n).tr()))\n",
    "    n_4_avgs.append(np.abs((rho_in_4*S_n).tr()))\n",
    "    n_5_avgs.append(np.abs((rho_in_5*S_n).tr()))\n",
    "\n",
    "    # Δφ_min's\n",
    "    phi_3_std_dev = phi_std_dev_num(rho_in_3, t_min, t_max, d_t)\n",
    "    min_3 = np.amin(phi_3_std_dev)\n",
    "    phi_3_std_dev_mins.append(min_3)\n",
    "    \n",
    "    \n",
    "    phi_4_std_dev = phi_std_dev_num(rho_in_4, t_min, t_max, d_t)\n",
    "    min_4 = np.amin(phi_4_std_dev)\n",
    "    phi_4_std_dev_mins.append(min_4)\n",
    "\n",
    "    \n",
    "    phi_5_std_dev = phi_std_dev_num(rho_in_5, t_min, t_max, d_t)\n",
    "    min_5 = np.amin(phi_5_std_dev)\n",
    "    phi_5_std_dev_mins.append(min_5)\n",
    "    \n",
    "    file.write(\"  %-10.8f %-10.8f %-30.25f %-30.25f %-30.25f\\n\" % (alpha_1,alpha_2,min_3,min_4,min_5))\n",
    "    print(\"alpha_1 =\", alpha_1, \", alpha_2 =\", alpha_2)\n",
    "    \n",
    "file.close()"
   ]
  },
  {
   "cell_type": "markdown",
   "metadata": {},
   "source": [
    "## Symbolic Heisenberg picture"
   ]
  },
  {
   "cell_type": "markdown",
   "metadata": {},
   "source": [
    "### Functions returning $\\Delta\\phi$ using $\\hat{J_z}$"
   ]
  },
  {
   "cell_type": "code",
   "execution_count": null,
   "metadata": {},
   "outputs": [],
   "source": [
    "# old version using conversion to numpy arrays and primitive matrix multiplication\n",
    "def phi_std_dev_0(rho_in, Jx, Jz, Jz_out):\n",
    "    Jz_std_dev = sp.sqrt(np.dot(rho_in, np.dot(Jz, Jz)).trace() - dot(rho_in, Jz).trace()**2)\n",
    "    Jz_out_exp = dot(rho_in, Jz_out).trace()\n",
    "    return Jz_std_dev/abs(sp.diff(Jz_out_exp, T))\n",
    "# current version using Qobj and optimized multiplication\n",
    "def phi_std_dev(rho_in):\n",
    "    Jz_std_dev = np.sqrt((rho_in*Jz**2).tr() - (rho_in*Jz).tr()**2)\n",
    "    Jz_out_exp = -sp.sin(T)*(rho_in*Jx).tr() + sp.cos(T)*(rho_in*Jz).tr()\n",
    "    return Jz_std_dev/abs(sp.diff(Jz_out_exp, T))"
   ]
  },
  {
   "cell_type": "markdown",
   "metadata": {},
   "source": [
    "#### Calculating $\\Delta\\phi$ and printing minima"
   ]
  },
  {
   "cell_type": "code",
   "execution_count": 14,
   "metadata": {},
   "outputs": [
    {
     "name": "stdout",
     "output_type": "stream",
     "text": [
      "Δφ_1,min = 1.3333333333250867\n",
      "Δφ_2,min = 1.3333333331414607\n",
      "Δφ_3,min = 1.528576347237865\n"
     ]
    }
   ],
   "source": [
    "phi_1_std_dev = phi_std_dev(rho_in_1)\n",
    "print('Δφ_1,min =', minimizer(phi_1_std_dev, T))\n",
    "\n",
    "phi_2_std_dev = phi_std_dev(rho_in_2)\n",
    "print('Δφ_2,min =', minimizer(phi_2_std_dev, T))\n",
    "\n",
    "phi_3_std_dev = phi_std_dev(rho_in_3)\n",
    "print('Δφ_3,min =', minimizer(phi_3_std_dev, T))"
   ]
  },
  {
   "cell_type": "markdown",
   "metadata": {},
   "source": [
    "#### Plotting $\\Delta\\phi$ vs. $\\phi$"
   ]
  },
  {
   "cell_type": "code",
   "execution_count": 15,
   "metadata": {},
   "outputs": [],
   "source": [
    "plots = sp.plot(phi_1_std_dev, phi_2_std_dev, phi_3_std_dev,\n",
    "                xlim=[-2*np.pi,2*np.pi], ylim=[0,5],\n",
    "                xlabel='$\\phi$', ylabel='$\\Delta\\phi$',\n",
    "                show=False)\n",
    "\n",
    "plots[0].line_color = 'r'\n",
    "plots[1].line_color = 'g'\n",
    "plots[2].line_color = 'b'\n",
    "\n",
    "# plots.show()"
   ]
  },
  {
   "cell_type": "markdown",
   "metadata": {},
   "source": [
    "#### Printing all $\\Delta\\phi_\\text{min}$"
   ]
  },
  {
   "cell_type": "code",
   "execution_count": 16,
   "metadata": {},
   "outputs": [],
   "source": [
    "def print_values(alpha, gammas, deltas):\n",
    "    beta = np.sqrt(alpha**2/2)\n",
    "\n",
    "    rho_in_1 = rho(psi_in_1(alpha))\n",
    "    rho_in_2 = rho(psi_in_2(beta))\n",
    "    \n",
    "    phi_1_std_dev = phi_std_dev(rho_in_1)\n",
    "    print('Δφ_1 =', minimizer(phi_1_std_dev, T))\n",
    "    \n",
    "    phi_2_std_dev = phi_std_dev(rho_in_2)\n",
    "    print('Δφ_2 =', minimizer(phi_2_std_dev, T))\n",
    "    \n",
    "    print()\n",
    "\n",
    "    for gamma,delta in zip(gammas,deltas):\n",
    "        print('γ =', gamma, ', δ = ', delta)\n",
    "        \n",
    "        rho_in_3 = rho(psi_in_3(gamma, delta))\n",
    "\n",
    "        phi_3_std_dev = phi_std_dev(rho_in_3)\n",
    "        print('Δφ_3 =', minimizer(phi_3_std_dev, T))\n",
    "        print()"
   ]
  },
  {
   "cell_type": "code",
   "execution_count": 17,
   "metadata": {},
   "outputs": [],
   "source": [
    "alpha = 0.75\n",
    "gammas = [0.1, 0.3, 0.5, 0.7, 0.9]\n",
    "deltas = [0.874729, 0.750905, 0.560657, 0.357412, 0.00743844]\n",
    "# print_values(alpha,gammas,deltas)"
   ]
  },
  {
   "cell_type": "markdown",
   "metadata": {},
   "source": [
    "#### Caculating & plotting $\\Delta\\phi_\\text{min}$ vs. $\\langle n \\rangle$ using $\\hat{J_z}$"
   ]
  },
  {
   "cell_type": "code",
   "execution_count": null,
   "metadata": {},
   "outputs": [],
   "source": [
    "file = open(\"number_symbolic_Heisenberg_1_12.txt\",\"w+\")\n",
    "file.write(\"# Δφ_min calculated using number operator and symbolic Heisenberg method\\n\")\n",
    "file.write(\"# |ψ_in_1> = |0>|α>\\n\")\n",
    "file.write(\"# |ψ_in_2> = |β>|β>\\n\")\n",
    "file.write(\"# ------------------------------------------------------------------------------------------------\\n\")\n",
    "file.write(\"# %-10s %-30s %-10s %-30s\\n\" % (\"alpha\",\"Δφ_min_1\",\"beta\",\"Δφ_min_2\"))"
   ]
  },
  {
   "cell_type": "code",
   "execution_count": null,
   "metadata": {},
   "outputs": [],
   "source": [
    "n_1_avgs = []; phi_1_std_dev_mins = []\n",
    "n_2_avgs = []; phi_2_std_dev_mins = []\n",
    "\n",
    "alphas = [0.5*n for n in range (4,14)]\n",
    "\n",
    "for alpha in alphas:\n",
    "    beta = np.sqrt(alpha**2/2)\n",
    "    \n",
    "    rho_in_1 = rho(psi_in_1(alpha))\n",
    "    rho_in_2 = rho(psi_in_2(beta))\n",
    "    \n",
    "    # <n>'s\n",
    "    n_1_avgs.append(np.abs((rho_in_1*S_n).tr()))\n",
    "    n_2_avgs.append(np.abs((rho_in_2*S_n).tr()))\n",
    "    \n",
    "    # Δφ_min's\n",
    "    phi_1_std_dev = phi_std_dev(rho_in_1)\n",
    "    min_1 = minimizer(phi_1_std_dev,T)\n",
    "    phi_1_std_dev_mins.append(min_1)\n",
    "    \n",
    "    phi_2_std_dev = phi_std_dev(rho_in_2)\n",
    "    min_2 = minimizer(phi_2_std_dev,T)\n",
    "    phi_2_std_dev_mins.append(min_2)\n",
    "    \n",
    "    file.write(\"  %-10.8f %-30.25f %-10.8f %-30.25f\\n\" % (alpha,min_1,beta,min_2))"
   ]
  },
  {
   "cell_type": "code",
   "execution_count": null,
   "metadata": {},
   "outputs": [],
   "source": [
    "file.close()"
   ]
  },
  {
   "cell_type": "code",
   "execution_count": null,
   "metadata": {},
   "outputs": [],
   "source": [
    "file = open(\"number_symbolic_Heisenberg_1_345.txt\",\"w+\")\n",
    "file.write(\"# Δφ_min calculated using number operator and symbolic_Heisenberg method\\n\")\n",
    "file.write(\"# |ψ_in_3> = N(|α_1,α_2>+|α_2,α_1>)\\n\")\n",
    "file.write(\"# |ψ_in_4> = N(a_1†|α_1,α_2>+a_2†|α_1,α_2>)\\n\")\n",
    "file.write(\"# |ψ_in_5> = N(a_1†²|α_1,α_2>+a_2†²|α_1,α_2>)\\n\")\n",
    "file.write(\"# ------------------------------------------------------------------------------------------------\\n\")\n",
    "file.write(\"# %-10s %-10s %-30s %-30s %-30s\\n\" % (\"alpha_1\",\"alpha_2\",\"Δφ_min_3\",\"Δφ_min_4\",\"Δφ_min_5\"))"
   ]
  },
  {
   "cell_type": "code",
   "execution_count": null,
   "metadata": {},
   "outputs": [],
   "source": [
    "#alpha_1s = [0.5,1,1,2,2,3,3,4]\n",
    "#alpha_2s = [0.7,1,2,2,3,3,4,4]\n",
    "alpha_1s = [0.5, 1, 1.5, 2, 2.5, 3, 3.5, 4, 4.5]\n",
    "alpha_2s = [-0.5, -1, -1.5, -2, -2.5, -3, -3.5, -4, -4.5]\n",
    "\n",
    "n_3_avgs = []; phi_3_std_dev_mins = []\n",
    "n_4_avgs = []; phi_4_std_dev_mins = []\n",
    "n_5_avgs = []; phi_5_std_dev_mins = []\n",
    "\n",
    "for alpha_1,alpha_2 in zip(alpha_1s,alpha_2s):\n",
    "    rho_in_3 = rho(psi_in_3(alpha_1, alpha_2))\n",
    "    rho_in_4 = rho(psi_in_4(alpha_1, alpha_2))\n",
    "    rho_in_5 = rho(psi_in_5(alpha_1, alpha_2))\n",
    "    \n",
    "    # <n>'s\n",
    "    n_3_avgs.append(np.abs((rho_in_3*S_n).tr()))\n",
    "    n_4_avgs.append(np.abs((rho_in_4*S_n).tr()))\n",
    "    n_5_avgs.append(np.abs((rho_in_5*S_n).tr()))\n",
    "    \n",
    "    # Δφ_min's\n",
    "    phi_3_std_dev = phi_std_dev(rho_in_3)\n",
    "    min_3 = minimizer(phi_3_std_dev,T)\n",
    "    phi_3_std_dev_mins.append(min_3)\n",
    "    \n",
    "    phi_4_std_dev = phi_std_dev(rho_in_4)\n",
    "    min_4 = minimizer(phi_4_std_dev,T)\n",
    "    phi_4_std_dev_mins.append(min_4)\n",
    "    \n",
    "    phi_5_std_dev = phi_std_dev(rho_in_5)\n",
    "    min_5 = minimizer(phi_5_std_dev,T)\n",
    "    phi_5_std_dev_mins.append(min_5)\n",
    "    \n",
    "    file.write(\"  %-10.8f %-10.8f %-30.25f %-30.25f %-30.25f\\n\" % (alpha_1,alpha_2,min_3,min_4,min_5))\n",
    "    print(\"alpha_1 =\", alpha_1, \", alpha_2 =\", alpha_2)"
   ]
  },
  {
   "cell_type": "code",
   "execution_count": 1,
   "metadata": {},
   "outputs": [
    {
     "ename": "NameError",
     "evalue": "name 'file' is not defined",
     "output_type": "error",
     "traceback": [
      "\u001b[0;31m---------------------------------------------------------------------------\u001b[0m",
      "\u001b[0;31mNameError\u001b[0m                                 Traceback (most recent call last)",
      "\u001b[0;32m<ipython-input-1-2f72176549a0>\u001b[0m in \u001b[0;36m<module>\u001b[0;34m()\u001b[0m\n\u001b[0;32m----> 1\u001b[0;31m \u001b[0mfile\u001b[0m\u001b[0;34m.\u001b[0m\u001b[0mclose\u001b[0m\u001b[0;34m(\u001b[0m\u001b[0;34m)\u001b[0m\u001b[0;34m\u001b[0m\u001b[0m\n\u001b[0m",
      "\u001b[0;31mNameError\u001b[0m: name 'file' is not defined"
     ]
    }
   ],
   "source": [
    "file.close()"
   ]
  },
  {
   "cell_type": "markdown",
   "metadata": {},
   "source": [
    "## Schrödinger picture"
   ]
  },
  {
   "cell_type": "code",
   "execution_count": 1,
   "metadata": {},
   "outputs": [
    {
     "ename": "NameError",
     "evalue": "name 'arange' is not defined",
     "output_type": "error",
     "traceback": [
      "\u001b[0;31m---------------------------------------------------------------------------\u001b[0m",
      "\u001b[0;31mNameError\u001b[0m                                 Traceback (most recent call last)",
      "\u001b[0;32m<ipython-input-1-8f920d549b44>\u001b[0m in \u001b[0;36m<module>\u001b[0;34m()\u001b[0m\n\u001b[1;32m      2\u001b[0m \u001b[0mD_phi\u001b[0m \u001b[0;34m=\u001b[0m \u001b[0;34m[\u001b[0m\u001b[0;34m]\u001b[0m\u001b[0;34m\u001b[0m\u001b[0m\n\u001b[1;32m      3\u001b[0m \u001b[0;34m\u001b[0m\u001b[0m\n\u001b[0;32m----> 4\u001b[0;31m \u001b[0;32mfor\u001b[0m \u001b[0mt\u001b[0m \u001b[0;32min\u001b[0m \u001b[0marange\u001b[0m\u001b[0;34m(\u001b[0m\u001b[0;34m-\u001b[0m\u001b[0;36m2\u001b[0m\u001b[0;34m*\u001b[0m\u001b[0mnp\u001b[0m\u001b[0;34m.\u001b[0m\u001b[0mpi\u001b[0m\u001b[0;34m-\u001b[0m\u001b[0;36m1\u001b[0m\u001b[0;34m,\u001b[0m\u001b[0;36m2\u001b[0m\u001b[0;34m*\u001b[0m\u001b[0mnp\u001b[0m\u001b[0;34m.\u001b[0m\u001b[0mpi\u001b[0m\u001b[0;34m,\u001b[0m\u001b[0;36m0.1\u001b[0m\u001b[0;34m)\u001b[0m \u001b[0;34m:\u001b[0m \u001b[0;31m# t (as in θ): angle of phase shifter\u001b[0m\u001b[0;34m\u001b[0m\u001b[0m\n\u001b[0m\u001b[1;32m      5\u001b[0m     \u001b[0mF\u001b[0m \u001b[0;34m=\u001b[0m \u001b[0;34m(\u001b[0m\u001b[0;36m1j\u001b[0m\u001b[0;34m*\u001b[0m\u001b[0mt\u001b[0m\u001b[0;34m*\u001b[0m\u001b[0ma\u001b[0m\u001b[0;34m.\u001b[0m\u001b[0mdag\u001b[0m\u001b[0;34m(\u001b[0m\u001b[0;34m)\u001b[0m\u001b[0;34m*\u001b[0m\u001b[0ma\u001b[0m\u001b[0;34m)\u001b[0m\u001b[0;34m.\u001b[0m\u001b[0mexpm\u001b[0m\u001b[0;34m(\u001b[0m\u001b[0;34m)\u001b[0m \u001b[0;31m# phase shift operator\u001b[0m\u001b[0;34m\u001b[0m\u001b[0m\n\u001b[1;32m      6\u001b[0m \u001b[0;34m\u001b[0m\u001b[0m\n",
      "\u001b[0;31mNameError\u001b[0m: name 'arange' is not defined"
     ]
    }
   ],
   "source": [
    "D_n_avg = []\n",
    "D_phi = []\n",
    "\n",
    "for t in arange(-2*np.pi-1,2*np.pi,0.1) : # t (as in θ): angle of phase shifter\n",
    "    F = (1j*t*a.dag()*a).expm() # phase shift operator\n",
    "    \n",
    "    psi_out_1 = U*psi_in_1\n",
    "    psi_out_mirror = tensor(I,F)*psi_out_1\n",
    "    psi_out_2 = U*psi_out_mirror\n",
    "    \n",
    "    rho_out = psi_out_2*psi_out_2.dag() # density matrix: ρ = |ψ_out_2><ψ_out_2|\n",
    "    \n",
    "    # for <ΔN>\n",
    "    D_n_avg.append((rho_out*D_n).tr()) # <ΔN> = ρ*ΔN\n",
    "    \n",
    "    # for Δθ\n",
    "    Jz = 1/2*D_n # Jz = (1/2)ΔN\n",
    "    D_Jz = sqrt((rho_out*(Jz**2)).tr()-((rho_out*Jz).tr())**2)\n",
    "    d_Jz_out_d_phi = abs(1/2*(np.sin(t)*alpha**2))\n",
    "    \n",
    "    D_phi.append(D_Jz/d_Jz_out_d_phi)\n",
    "\n",
    "D_n_avg_array = np.array(D_n_avg)\n",
    "D_phi_array = np.array(D_phi)"
   ]
  },
  {
   "cell_type": "code",
   "execution_count": 16,
   "metadata": {},
   "outputs": [],
   "source": [
    "x = arange(-2*np.pi-1,2*np.pi,0.1)"
   ]
  },
  {
   "cell_type": "code",
   "execution_count": 17,
   "metadata": {},
   "outputs": [],
   "source": [
    "plt.plot(x,D_n_avg_array,'m',label=r'$\\Delta N$')\n",
    "\n",
    "plt.xlabel(r'$\\theta$')\n",
    "plt.ylabel(r'$\\langle\\Delta\\hat{N}\\rangle$')\n",
    "\n",
    "plt.legend(loc='lower right')\n",
    "plt.close()"
   ]
  },
  {
   "cell_type": "code",
   "execution_count": 18,
   "metadata": {},
   "outputs": [],
   "source": [
    "plt.plot(x,D_phi_array,'c',label=r'$\\Delta \\phi$')\n",
    "\n",
    "plt.xlabel(r'$\\theta$')\n",
    "plt.ylabel(r'$\\Delta\\phi$')\n",
    "plt.ylim(-1,20)\n",
    "\n",
    "plt.legend(loc='best')\n",
    "plt.close()"
   ]
  }
 ],
 "metadata": {
  "kernelspec": {
   "display_name": "Python 3",
   "language": "python",
   "name": "python3"
  },
  "language_info": {
   "codemirror_mode": {
    "name": "ipython",
    "version": 3
   },
   "file_extension": ".py",
   "mimetype": "text/x-python",
   "name": "python",
   "nbconvert_exporter": "python",
   "pygments_lexer": "ipython3",
   "version": "3.7.3"
  }
 },
 "nbformat": 4,
 "nbformat_minor": 2
}
