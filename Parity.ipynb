{
 "cells": [
  {
   "cell_type": "markdown",
   "metadata": {},
   "source": [
    "# Interferometry with coherent states using parity operator"
   ]
  },
  {
   "cell_type": "code",
   "execution_count": 3,
   "metadata": {},
   "outputs": [],
   "source": [
    "%matplotlib inline\n",
    "\n",
    "from math import *\n",
    "from qutip import *\n",
    "from pylab import *\n",
    "\n",
    "from scipy.optimize import minimize as cp_minimize\n",
    "\n",
    "import sympy as sp\n",
    "import numpy as np\n",
    "import matplotlib.pyplot as plt"
   ]
  },
  {
   "cell_type": "markdown",
   "metadata": {},
   "source": [
    "### Symbols & operators"
   ]
  },
  {
   "cell_type": "code",
   "execution_count": 4,
   "metadata": {},
   "outputs": [],
   "source": [
    "T = sp.symbols('T')\n",
    "N = 60 # dimension of the Hilbert space\n",
    "\n",
    "# operators\n",
    "I = qeye(N) # identity operator\n",
    "a = destroy(N) # annihilation operator\n",
    "n = num(N); n_a = tensor(n, I); n_b = tensor(I, n) # number operators\n",
    "D_n = n_a - n_b # ΔN = n_1 - n_2\n",
    "S_n = n_a + n_b # ΣN = n_1 + n_2\n",
    "U = (1j*np.pi/4*(tensor(a.dag(), a) + tensor(a, a.dag()))).expm() # beam splitter operator\n",
    "\n",
    "# Schwinger representation\n",
    "Jx = 1/2*(tensor(a.dag(), a) + tensor(a, a.dag()))\n",
    "Jy = -1j/2*(tensor(a.dag(), a) - tensor(a, a.dag()))\n",
    "Jz = 1/2*(tensor(a.dag()*a, I) - tensor(I, a.dag()*a))\n",
    "\n",
    "# Parity operator\n",
    "Pa = (1j*np.pi*tensor(a.dag()*a,I)).expm()\n",
    "Pb = (1j*np.pi*tensor(I,a.dag()*a)).expm()\n",
    "P = (1j*np.pi*a.dag()*a).expm()"
   ]
  },
  {
   "cell_type": "markdown",
   "metadata": {},
   "source": [
    "#### Checking that $\\hat{P}$ works properly"
   ]
  },
  {
   "cell_type": "code",
   "execution_count": 3,
   "metadata": {},
   "outputs": [],
   "source": [
    "psi_10 = tensor(fock(N,1),fock(N,0))\n",
    "psi_01 = tensor(fock(N,0),fock(N,1))\n",
    "psi_11 = tensor(fock(N,1),fock(N,1))\n",
    "psi_12 = tensor(fock(N,1),fock(N,2))\n",
    "psi_21 = tensor(fock(N,2),fock(N,1))\n",
    "psi_22 = tensor(fock(N,2),fock(N,2))\n",
    "#print(psi_10,psi_01,psi_11,psi_12,psi_21,psi_22)\n",
    "\n",
    "PP = Pa*Pb\n",
    "#print(PP*psi_10,PP*psi_01,PP*psi_11,PP*psi_12,PP*psi_21,PP*psi_22)"
   ]
  },
  {
   "cell_type": "code",
   "execution_count": 5,
   "metadata": {},
   "outputs": [],
   "source": [
    "psi_0 = fock(N,0)\n",
    "psi_1 = fock(N,1)\n",
    "psi_2 = fock(N,2)\n",
    "#print(psi_0,psi_1,psi_2)\n",
    "\n",
    "#print(P*psi_0,P*psi_1,P*psi_2)"
   ]
  },
  {
   "cell_type": "code",
   "execution_count": 7,
   "metadata": {},
   "outputs": [
    {
     "data": {
      "text/plain": [
       "-0.19999999999999996"
      ]
     },
     "execution_count": 7,
     "metadata": {},
     "output_type": "execute_result"
    }
   ],
   "source": [
    "rho_test = 0.4*fock(N,0)*fock(N,0).dag() + 0.6*fock(N,1)*fock(N,1).dag()\n",
    "(rho_test*P).tr()"
   ]
  },
  {
   "cell_type": "markdown",
   "metadata": {},
   "source": [
    "### Functions for input states"
   ]
  },
  {
   "cell_type": "code",
   "execution_count": 4,
   "metadata": {},
   "outputs": [],
   "source": [
    "# returns ρ_in given pure state ψ_in\n",
    "def rho(psi):\n",
    "    return psi*psi.dag()\n",
    "\n",
    "# |ψ_in_1> = |0>|α>\n",
    "def psi_in_1(alpha):\n",
    "    return tensor(fock(N, 0),coherent(N, alpha))\n",
    "\n",
    "# |ψ_in_2> = |β>|β>\n",
    "def psi_in_2(beta):\n",
    "    return tensor(coherent(N, beta),coherent(N, beta))\n",
    "    \n",
    "# |ψ_in_3> = N(|γδ>+|δγ>)\n",
    "def psi_in_3(gamma, delta):\n",
    "    temp = tensor(coherent(N, gamma), coherent(N, delta)) + tensor(coherent(N, delta), coherent(N, gamma))\n",
    "    return temp.unit()\n",
    "\n",
    "# |ψ_in_4> = N(a_1†|α_1,α_2>+a_2†|α_1,α_2>)\n",
    "def psi_in_4(alpha_1, alpha_2):\n",
    "    psi_alphas = tensor(coherent(N, alpha_1),coherent(N, alpha_2)) # |α_1,α_2>\n",
    "    temp = tensor(a.dag(), I)*psi_alphas + tensor(I, a.dag())*psi_alphas\n",
    "    return temp.unit()\n",
    "    \n",
    "# |ψ_in_5> = N(a_1†²|α_1,α_2>+a_2†²|α_1,α_2>)    \n",
    "def psi_in_5(alpha_1, alpha_2):\n",
    "    psi_alphas = tensor(coherent(N, alpha_1), coherent(N, alpha_2)) # |α_1,α_2>\n",
    "    temp = tensor(a.dag()**2, I)*psi_alphas + tensor(I, a.dag()**2)*psi_alphas\n",
    "    return temp.unit()"
   ]
  },
  {
   "cell_type": "markdown",
   "metadata": {},
   "source": [
    "### Helper functions"
   ]
  },
  {
   "cell_type": "code",
   "execution_count": 5,
   "metadata": {},
   "outputs": [],
   "source": [
    "# returns an np-array matrix given Qobj\n",
    "def Qobj_to_np_array(Qobj):\n",
    "    M = []\n",
    "    for i in Qobj:\n",
    "        M.append(i)\n",
    "    return np.resize(np.asarray(M), np.shape(Qobj))\n",
    "\n",
    "# returns a sp-array matrix given Qobj\n",
    "def Qobj_to_sp_array(Qobj):\n",
    "    return sp.Matrix(Qobj_to_np_array(Qobj))\n",
    "\n",
    "# returns the minimum value of expr(var)\n",
    "def minimizer(expr, var):\n",
    "    f = sp.lambdify(var, expr)\n",
    "    res = cp_minimize(f, 1)\n",
    "    return res.fun\n",
    "\n",
    "# differentiation using forward difference (fd)\n",
    "def der_fd_abs(func, d_t):\n",
    "    der = []\n",
    "    for i in range(0, len(func)-1):\n",
    "        der.append(abs((func[i+1]-func[i])/d_t))\n",
    "    return der\n",
    "\n",
    "# differentiation using central difference (cd)\n",
    "def der_cd_abs(func, d_t):\n",
    "    der = []\n",
    "    for i in range(1, len(func)-1):\n",
    "        der.append(abs((func[i+1]-func[i-1])/(2*d_t)))\n",
    "    return der"
   ]
  },
  {
   "cell_type": "markdown",
   "metadata": {},
   "source": [
    "#### Checking differentiation methods work properly"
   ]
  },
  {
   "cell_type": "code",
   "execution_count": 6,
   "metadata": {},
   "outputs": [
    {
     "data": {
      "text/plain": [
       "<matplotlib.legend.Legend at 0x7f157c27a710>"
      ]
     },
     "execution_count": 6,
     "metadata": {},
     "output_type": "execute_result"
    },
    {
     "data": {
      "image/png": "[encoded data removed]",
      "text/plain": [
       "<Figure size 432x288 with 1 Axes>"
      ]
     },
     "metadata": {},
     "output_type": "display_data"
    }
   ],
   "source": [
    "quadratic = [0,7,12,15,16,15,12,7,0]\n",
    "x_min = -4; x_max = 4; d_t = 1\n",
    "\n",
    "der_quadratic_fd = der_fd_abs(quadratic, d_t)\n",
    "der_quadratic_cd = der_cd_abs(quadratic, d_t)\n",
    "\n",
    "plt.plot(arange(x_min, x_max+d_t, d_t), quadratic, 'b.-', label=r'$f(x)=-x^2+16$')\n",
    "x = arange(x_min , x_max, d_t)\n",
    "plt.plot(x, abs(2*x), 'y.-', label=r'$|f^\\prime(x)|=2x$')\n",
    "\n",
    "plt.plot(arange(x_min, x_max, d_t), der_quadratic_fd, 'g.--', label=r'$|f^\\prime(x)|_{fd}$')\n",
    "plt.plot(arange(x_min+d_t, x_max, d_t), der_quadratic_cd, 'r.--', label=r'$|f^\\prime(x)|_{cd}$')\n",
    "\n",
    "plt.xlabel(r'$x$')\n",
    "plt.legend(loc='best')\n",
    "\n",
    "#plt.close()"
   ]
  },
  {
   "cell_type": "markdown",
   "metadata": {},
   "source": [
    "## Numerical Heisenberg picture 2"
   ]
  },
  {
   "cell_type": "markdown",
   "metadata": {},
   "source": [
    "### Functions returning $\\Delta\\phi$ using $\\hat{P}$"
   ]
  },
  {
   "cell_type": "code",
   "execution_count": 6,
   "metadata": {},
   "outputs": [],
   "source": [
    "def phi_std_dev(rho_in):\n",
    "    # ΔP\n",
    "    Pa_std_dev = np.sqrt(1 - (rho_in*Pa).tr()**2)\n",
    "    \n",
    "    # |d<P_a>_out/dφ|\n",
    "    result = []\n",
    "    for t in arange(-0.01, 2*np.pi, 0.3):\n",
    "        MZI = (-1j*Jy*t).expm();\n",
    "        dMZI_dt = (-1j*Jy)*(-1j*Jy*t).expm();\n",
    "        \n",
    "        Pa_out = dMZI_dt.dag()*Pa*MZI + MZI.dag()*Pa*dMZI_dt;\n",
    "        \n",
    "        value = np.abs((rho_in*Pa_out).tr())\n",
    "        print(value)\n",
    "        result.append(value)\n",
    "        \n",
    "    return(Pa_std_dev/np.array(result))"
   ]
  },
  {
   "cell_type": "markdown",
   "metadata": {},
   "source": [
    "#### Caculating & plotting $\\Delta\\phi_\\text{min}$ vs. $\\langle n \\rangle$ using $\\hat{P} = (-1)^{\\hat{N_1}}$"
   ]
  },
  {
   "cell_type": "code",
   "execution_count": 9,
   "metadata": {},
   "outputs": [
    {
     "data": {
      "text/plain": [
       "86"
      ]
     },
     "execution_count": 9,
     "metadata": {},
     "output_type": "execute_result"
    }
   ],
   "source": [
    "file = open(\"parity_numerical_Heisenberg_2_12.txt\",\"w+\")\n",
    "file.write(\"# Δφ_min calculated using parity operator and numerical Heisenberg method\\n\")\n",
    "file.write(\"# |ψ_in_1> = |0>|α>\\n\")\n",
    "file.write(\"# |ψ_in_2> = |β>|β>\\n\")\n",
    "file.write(\"# ------------------------------------------------------------------------------------------------\\n\")\n",
    "file.write(\"# %-10s %-30s %-10s %-30s\\n\" % (\"alpha\",\"Δφ_min_1\",\"beta\",\"Δφ_min_2\"))"
   ]
  },
  {
   "cell_type": "code",
   "execution_count": 1,
   "metadata": {},
   "outputs": [
    {
     "ename": "NameError",
     "evalue": "name 'np' is not defined",
     "output_type": "error",
     "traceback": [
      "\u001b[0;31m---------------------------------------------------------------------------\u001b[0m",
      "\u001b[0;31mNameError\u001b[0m                                 Traceback (most recent call last)",
      "\u001b[0;32m<ipython-input-1-460759a51a4b>\u001b[0m in \u001b[0;36m<module>\u001b[0;34m()\u001b[0m\n\u001b[1;32m      5\u001b[0m \u001b[0;34m\u001b[0m\u001b[0m\n\u001b[1;32m      6\u001b[0m \u001b[0;32mfor\u001b[0m \u001b[0malpha\u001b[0m \u001b[0;32min\u001b[0m \u001b[0malphas\u001b[0m\u001b[0;34m:\u001b[0m\u001b[0;34m\u001b[0m\u001b[0m\n\u001b[0;32m----> 7\u001b[0;31m     \u001b[0mbeta\u001b[0m \u001b[0;34m=\u001b[0m \u001b[0mnp\u001b[0m\u001b[0;34m.\u001b[0m\u001b[0msqrt\u001b[0m\u001b[0;34m(\u001b[0m\u001b[0malpha\u001b[0m\u001b[0;34m**\u001b[0m\u001b[0;36m2\u001b[0m\u001b[0;34m/\u001b[0m\u001b[0;36m2\u001b[0m\u001b[0;34m)\u001b[0m\u001b[0;34m\u001b[0m\u001b[0m\n\u001b[0m\u001b[1;32m      8\u001b[0m \u001b[0;34m\u001b[0m\u001b[0m\n\u001b[1;32m      9\u001b[0m     \u001b[0mrho_in_1\u001b[0m \u001b[0;34m=\u001b[0m \u001b[0mrho\u001b[0m\u001b[0;34m(\u001b[0m\u001b[0mpsi_in_1\u001b[0m\u001b[0;34m(\u001b[0m\u001b[0malpha\u001b[0m\u001b[0;34m)\u001b[0m\u001b[0;34m)\u001b[0m\u001b[0;34m\u001b[0m\u001b[0m\n",
      "\u001b[0;31mNameError\u001b[0m: name 'np' is not defined"
     ]
    }
   ],
   "source": [
    "n_1_avgs = []; phi_1_std_dev_mins = []\n",
    "n_2_avgs = []; phi_2_std_dev_mins = []\n",
    "\n",
    "alphas = [0.5*n for n in range (1,11)] # {0.5, 1, 1.5 ... 5}\n",
    "\n",
    "for alpha in alphas:\n",
    "    beta = np.sqrt(alpha**2/2)\n",
    "    \n",
    "    rho_in_1 = rho(psi_in_1(alpha))\n",
    "    rho_in_2 = rho(psi_in_2(beta))\n",
    "    \n",
    "    # <n>'s\n",
    "    n_1_avgs.append(np.abs((rho_in_1*S_n).tr()))\n",
    "    n_2_avgs.append(np.abs((rho_in_2*S_n).tr()))\n",
    "    \n",
    "    # Δφ_min's\n",
    "    phi_1_std_dev = phi_std_dev(rho_in_1)\n",
    "    min_1 = np.amin(phi_1_std_dev)\n",
    "    phi_1_std_dev_mins.append(min_1)\n",
    "    \n",
    "    \n",
    "    phi_2_std_dev = phi_std_dev(rho_in_2)\n",
    "    min_2 = np.amin(phi_2_std_dev)\n",
    "    phi_2_std_dev_mins.append(min_2)\n",
    "    \n",
    "    file.write(\"  %-10.8f %-30.25f %-10.8f %-30.25f\\n\" % (alpha,min_1,beta,min_2))\n",
    "    print(\"alpha =\", alpha)"
   ]
  },
  {
   "cell_type": "code",
   "execution_count": 11,
   "metadata": {},
   "outputs": [],
   "source": [
    "file.close()"
   ]
  },
  {
   "cell_type": "code",
   "execution_count": 12,
   "metadata": {},
   "outputs": [
    {
     "data": {
      "text/plain": [
       "117"
      ]
     },
     "execution_count": 12,
     "metadata": {},
     "output_type": "execute_result"
    }
   ],
   "source": [
    "file = open(\"parity_numerical_Heisenberg_2_345.txt\",\"w+\")\n",
    "file.write(\"# Δφ_min calculated using parity operator and numerical Heisenberg method\\n\")\n",
    "file.write(\"# |ψ_in_3> = N(|α_1,α_2>+|α_2,α_1>)\\n\")\n",
    "file.write(\"# |ψ_in_4> = N(a_1†|α_1,α_2>+a_2†|α_1,α_2>)\\n\")\n",
    "file.write(\"# |ψ_in_5> = N(a_1†²|α_1,α_2>+a_2†²|α_1,α_2>)\\n\")\n",
    "file.write(\"# ------------------------------------------------------------------------------------------------\\n\")\n",
    "file.write(\"# %-10s %-11s %-30s %-30s %-30s\\n\" % (\"alpha_1\",\"alpha_2\",\"Δφ_min_3\",\"Δφ_min_4\",\"Δφ_min_5\"))"
   ]
  },
  {
   "cell_type": "code",
   "execution_count": null,
   "metadata": {},
   "outputs": [
    {
     "name": "stdout",
     "output_type": "stream",
     "text": [
      "0.00015502689874450723\n",
      "0.004249109337055571\n",
      "0.007173195046514113\n",
      "0.007594772509432342\n",
      "0.005361378921649947\n",
      "0.001250428411053439\n",
      "0.0032988189675646354\n",
      "0.006692096923130488\n",
      "0.007743542170796622\n",
      "0.006090577861642242\n",
      "0.0023145461889407426\n",
      "0.002267359467843939\n",
      "0.006059825665067957\n",
      "0.007739980628211693\n",
      "0.0067170291662926795\n",
      "0.003343564699505282\n",
      "0.001201537991026573\n",
      "0.005325479300729779\n",
      "0.007584407647404437\n",
      "0.007191931373655111\n",
      "0.004290359188978254\n",
      "0.87306560704499\n",
      "0.7167509802364739\n",
      "0.5339436398897764\n",
      "0.3540405387194448\n",
      "0.18974737308858478\n",
      "0.039371425236090864\n",
      "0.10756086195002466\n",
      "0.26343498536586946\n",
      "0.43548556170967\n",
      "0.6193205519553445\n",
      "0.7945136210808745\n",
      "0.924788250138568\n",
      "0.9653716689441226\n",
      "0.8778413178609636\n",
      "0.6482654913403189\n",
      "0.3001406639852666\n",
      "0.10647317604022905\n",
      "0.49208695278930875\n",
      "0.7842829569322797\n",
      "0.9407575506199\n",
      "0.9583027020281073\n",
      "0.1961709453969789\n",
      "0.17781927482834337\n",
      "0.1465108660536404\n",
      "0.10641784151317216\n",
      "0.061049571927261286\n",
      "0.013085007226661451\n",
      "0.035394659092692356\n",
      "0.08244720607502284\n",
      "0.12576320977599167\n",
      "0.16228906453283956\n",
      "0.18815899348148926\n",
      "0.1990933709475013\n",
      "0.19131893215211018\n",
      "0.16285722430899663\n",
      "0.1147658851928194\n",
      "0.05175721196678381\n",
      "0.01826651921831995\n",
      "0.08579420713787848\n",
      "0.14189474838030547\n",
      "0.18018373519577094\n",
      "0.197857319252188\n",
      "alpha_1 = 0.25 , alpha2_=  -0.25\n",
      "0.0022169086461454796\n",
      "0.060956934753803906\n",
      "0.10382179907569078\n",
      "0.11118430681378733\n",
      "0.07927326784032324\n",
      "0.018582581418277514\n",
      "0.04894695349884816\n",
      "0.0985382406310103\n",
      "0.11276012628796017\n",
      "0.08774511028179727\n",
      "0.03312773100930511\n",
      "0.03245116219382212\n",
      "0.08729359249898218\n",
      "0.11269438971500283\n",
      "0.09889487377140048\n",
      "0.04960828355166115\n",
      "0.017856366712944605\n",
      "0.07874909442681957\n",
      "0.11104593253073063\n",
      "0.10410490690619857\n",
      "0.061552908752891634\n",
      "0.4663134749481845\n",
      "0.17204552131365486\n",
      "0.002731177173250435\n",
      "0.06850410544531187\n",
      "0.06052310875989571\n",
      "0.014772627480341251\n",
      "0.03853070415286398\n",
      "0.07094453194763087\n",
      "0.049654466956021624\n",
      "0.06274614557817618\n",
      "0.29420943682095446\n",
      "0.6312057922874795\n",
      "0.9825124785941297\n",
      "1.1782436144206154\n",
      "1.044481551298952\n",
      "0.5339556712351362\n",
      "0.19307539381104213\n",
      "0.8401362719377461\n",
      "1.1622272781148613\n",
      "1.1084566449518423\n",
      "0.808044470718966\n",
      "0.40327189796583285\n",
      "0.30944151158793154\n",
      "0.2178879013029444\n",
      "0.13865800108978463\n",
      "0.07247999694487678\n",
      "0.014885246842848605\n",
      "0.040789535513967454\n",
      "0.1015964518242853\n",
      "0.17346851106066527\n",
      "0.25893750581088587\n",
      "0.35350688385797885\n",
      "0.4415699761403773\n",
      "0.49514149525363393\n",
      "0.4802212488264127\n",
      "0.3727863820912227\n",
      "0.1777877643057194\n",
      "0.06344426000125479\n",
      "0.28785781409618366\n",
      "0.4404784685694249\n",
      "0.49844480276539804\n",
      "0.4738298651670014\n",
      "alpha_1 = 0.5 , alpha2_=  -0.5\n",
      "0.007433867224179456\n",
      "0.20723790799418934\n",
      "0.36656955250466344\n",
      "0.4117214322644807\n",
      "0.3057517056590248\n",
      "0.07314937940704015\n",
      "0.19146788539139228\n",
      "0.3736727760180306\n",
      "0.4084240110083398\n",
      "0.3037736927001792\n",
      "0.11151309662077404\n",
      "0.10921829586226661\n",
      "0.30208530783218435\n",
      "0.4079761729837361\n",
      "0.3748628112640619\n",
      "0.1940139727337197\n",
      "0.0702961167104456\n",
      "0.3038337828190344\n",
      "0.4114134787687355\n",
      "0.3677471122619587\n",
      "0.2093256961263243\n",
      "0.07608527256431145\n",
      "0.25421113674151846\n",
      "0.2526924953500443\n",
      "0.18107015391388734\n",
      "0.09800069512886475\n",
      "0.020253860539885343\n",
      "0.05542620305049398\n",
      "0.13597972379117862\n",
      "0.21785410407324995\n",
      "0.2677166670880688\n",
      "0.20212348104099473\n",
      "0.09900160879125294\n",
      "0.6839160986871874\n",
      "1.338627721610017\n",
      "1.550168343726042\n",
      "0.9075451383864012\n",
      "0.33668772795839325\n",
      "1.3505636786968365\n",
      "1.5314100853140564\n",
      "1.0180721675488682\n",
      "0.3508232996483505\n",
      "0.3521389001894565\n",
      "0.20728891914464398\n",
      "0.1123799441687889\n",
      "0.05665381352259299\n",
      "0.024887268634999724\n",
      "0.004701737575929054\n",
      "0.013218102343924848\n",
      "0.03744389266812345\n",
      "0.07849629774463693\n",
      "0.1503868389214737\n",
      "0.267839217860261\n",
      "0.43381791613049103\n",
      "0.6156527351368861\n",
      "0.726425389942874\n",
      "0.6513057573963934\n",
      "0.3374686082708352\n",
      "0.12241578068413175\n",
      "0.527693742021191\n",
      "0.7194048480054615\n",
      "0.6852022044198361\n",
      "0.5236605181740095\n",
      "alpha_1 = 0.75 , alpha2_=  -0.75\n",
      "0.010632089113881448\n",
      "0.30747493602782305\n",
      "0.599422545919173\n",
      "0.7561355219102418\n",
      "0.6170927172110632\n",
      "0.15456048125592\n",
      "0.39891880096572524\n",
      "0.7255016605465182\n",
      "0.711314205021804\n",
      "0.472529605259738\n",
      "0.16114078948031554\n",
      "0.15775754804164074\n",
      "0.4694021406120882\n",
      "0.7096469053467325\n",
      "0.7270846222167346\n",
      "0.40403305856477845\n",
      "0.14855728369118357\n",
      "0.6136972346517491\n",
      "0.7564601073200431\n",
      "0.6020784831057334\n",
      "0.3108139444364245\n",
      "0.4058480413688298\n",
      "0.32124913360846497\n",
      "0.18849660510716243\n",
      "0.09447281615894107\n",
      "0.04024276557948855\n",
      "0.007449159566611326\n",
      "0.02108049939607227\n",
      "0.061439390324554054\n",
      "0.13203204927251935\n",
      "0.2470682546779137\n",
      "0.37732186148589725\n",
      "0.36437350527331114\n",
      "0.1024506328730272\n",
      "1.135117819201464\n",
      "1.9886078270511804\n",
      "1.3978423270459908\n",
      "0.5362291436534523\n",
      "1.9321982758916307\n",
      "1.6532897061109992\n",
      "0.5505479511683739\n",
      "0.21520959330965658\n",
      "0.20847403168697823\n",
      "0.08886851410813054\n",
      "0.034876900588467236\n",
      "0.01301623339208983\n",
      "0.004490569983664918\n",
      "0.0007488053919105394\n",
      "0.00218898786826218\n",
      "0.007473190987866283\n",
      "0.020622598697978334\n",
      "0.05410802949790006\n",
      "0.133426339694474\n",
      "0.29645872334466133\n",
      "0.5611951838300889\n",
      "0.8433006110862592\n",
      "0.9043676200632599\n",
      "0.5197299911888391\n",
      "0.19243737546166453\n",
      "0.7780471317873229\n",
      "0.9185117135752596\n",
      "0.7067317393455613\n",
      "0.41315007702026463\n",
      "alpha_1 = 1 , alpha2_=  -1\n",
      "0.008565721180241046\n",
      "0.2671934795975609\n",
      "0.6278573704804772\n",
      "0.9705224034847207\n",
      "0.9239081616047203\n",
      "0.2486838131586634\n",
      "0.6279515424142472\n",
      "1.0206797672382324\n",
      "0.8338215410773205\n",
      "0.4506788345556339\n",
      "0.132656392799828\n",
      "0.12975612627388597\n",
      "0.4467791276057675\n",
      "0.8300574566138261\n",
      "1.0212475899076066\n",
      "0.6355334172952211\n",
      "0.2390887914548781\n",
      "0.9199563566470895\n",
      "0.9728591890548548\n",
      "0.6320431323695561\n",
      "0.27051886215809523\n",
      "0.3930462748483341\n",
      "0.18343580295430917\n",
      "0.07032041754324506\n",
      "0.024761355406394108\n",
      "0.008124266687867195\n",
      "0.00132342725165841\n",
      "0.0038960603542154736\n",
      "0.01380018917138724\n",
      "0.04033746089583257\n",
      "0.11116341910382511\n",
      "0.26981841655675043\n",
      "0.4942828305283626\n",
      "0.4397922056373352\n",
      "0.576578846071843\n",
      "2.2014248087388903\n",
      "1.974645246752271\n",
      "0.7901981530918123\n",
      "2.481213209286326\n",
      "1.4036299163929473\n",
      "0.09892269641458726\n",
      "0.5438703797891139\n",
      "0.0964866548467448\n",
      "0.0290872071556887\n",
      "0.008253835139554513\n",
      "0.002336277776159747\n",
      "0.000657862370050135\n",
      "9.937300912076813e-05\n",
      "0.00029950674721513596\n",
      "0.0011892879736667894\n",
      "0.0041737080287383216\n",
      "0.014805670683049483\n",
      "0.05118321818177592\n",
      "0.16096503111673102\n",
      "0.42331291146892347\n",
      "0.8438482334964497\n",
      "1.1190717297597894\n",
      "0.7279088728200321\n",
      "0.2762317390517956\n",
      "1.0343000687106454\n",
      "1.0285945891872552\n",
      "0.6155009111133874\n",
      "0.263966994478992\n",
      "alpha_1 = 1.25 , alpha2_=  -1.25\n",
      "0.004499806800089726\n",
      "0.1602145186330649\n",
      "0.5044280699167251\n",
      "1.037578419989161\n",
      "1.211189594561091\n",
      "0.3578056791152585\n",
      "0.8783983008937528\n",
      "1.2333288793448487\n",
      "0.7870500219570778\n",
      "0.31418528510808985\n",
      "0.07244468407196096\n",
      "0.07074931912366511\n",
      "0.31047062026713124\n",
      "0.7811176317538427\n",
      "1.2313757055544876\n",
      "0.8881596008466454\n",
      "0.3441186428454941\n",
      "1.2079420446769937\n",
      "1.0428576589856409\n",
      "0.5094549269086975\n",
      "0.162636871747555\n",
      "0.222087638757713\n",
      "0.06307052523964422\n",
      "0.015471573529979478\n",
      "0.0037094716986276607\n",
      "0.0009072687617889348\n",
      "0.0001272319920482506\n",
      "0.0003925475587368092\n"
     ]
    }
   ],
   "source": [
    "#alpha_1s = [0.5, 1, 1.5, 2, 2.5, 3, 3.5, 4, 4.5]\n",
    "#alpha_2s = [-0.5, -1, -1.5, -2, -2.5, -3, -3.5, -4, -4.5]\n",
    "\n",
    "alpha_1s = [0.25, 0.5, 0.75, 1, 1.25, 1.5, 1.75, 2, 2.25]\n",
    "alpha_2s = [-0.25, -0.5, -0.75, -1, -1.25, -1.5, -1.75, -2, -2.25]\n",
    "\n",
    "n_3_avgs = []; phi_3_std_dev_mins = []\n",
    "n_4_avgs = []; phi_4_std_dev_mins = []\n",
    "n_5_avgs = []; phi_5_std_dev_mins = []\n",
    "    \n",
    "for alpha_1,alpha_2 in zip(alpha_1s,alpha_2s):\n",
    "    rho_in_3 = rho(psi_in_3(alpha_1, alpha_2))\n",
    "    rho_in_4 = rho(psi_in_4(alpha_1, alpha_2))\n",
    "    rho_in_5 = rho(psi_in_5(alpha_1, alpha_2))\n",
    "\n",
    "    # <n>'s\n",
    "    n_3_avgs.append(np.abs((rho_in_3*S_n).tr()))\n",
    "    n_4_avgs.append(np.abs((rho_in_4*S_n).tr()))\n",
    "    n_5_avgs.append(np.abs((rho_in_5*S_n).tr()))\n",
    "\n",
    "    # Δφ_min's\n",
    "    phi_3_std_dev = phi_std_dev(rho_in_3)\n",
    "    min_3 = np.amin(phi_3_std_dev)\n",
    "    phi_3_std_dev_mins.append(min_3)\n",
    "    \n",
    "    phi_4_std_dev = phi_std_dev(rho_in_4)\n",
    "    min_4 = np.amin(phi_4_std_dev)\n",
    "    phi_4_std_dev_mins.append(min_4)\n",
    "    \n",
    "    phi_5_std_dev = phi_std_dev(rho_in_5)\n",
    "    min_5 = np.amin(phi_5_std_dev)\n",
    "    phi_5_std_dev_mins.append(min_5)\n",
    "    \n",
    "    file.write(\"  %-10.8f %-10.8f %-30.25f %-30.25f %-30.25f\\n\" % (alpha_1,alpha_2,min_3,min_4,min_5))\n",
    "    print(\"alpha_1 =\", alpha_1, \", alpha2_= \", alpha_2)"
   ]
  },
  {
   "cell_type": "code",
   "execution_count": null,
   "metadata": {},
   "outputs": [],
   "source": [
    "file.close()"
   ]
  },
  {
   "cell_type": "markdown",
   "metadata": {},
   "source": [
    "## Numerical Schrödinger picture"
   ]
  },
  {
   "cell_type": "markdown",
   "metadata": {},
   "source": [
    "### Functions returning $\\Delta\\phi$ using $\\hat{P}$"
   ]
  },
  {
   "cell_type": "code",
   "execution_count": 7,
   "metadata": {},
   "outputs": [],
   "source": [
    "def phi_std_dev_num(psi_in, t_min, t_max, d_t):\n",
    "    D_phi = [] # Δφ\n",
    "    rho_in = rho(psi_in)\n",
    "    \n",
    "    # ΔP\n",
    "    Pa_std_dev = np.sqrt(1 - (rho_in*Pa).tr()**2)\n",
    "    \n",
    "    # |d<P_a>_out/dφ|\n",
    "    result = []\n",
    "    for t in arange(t_min, t_max, d_t):\n",
    "        F = (1j*t*a.dag()*a).expm() # phase shift operator\n",
    "        \n",
    "        psi_out_1 = U*psi_in\n",
    "        psi_out_mirror = tensor(I,F)*psi_out_1\n",
    "        psi_out_2 = U*psi_out_mirror\n",
    "    \n",
    "        rho_out = rho(psi_out_2)\n",
    "        result.append((rho_out*Pa).tr())\n",
    "    \n",
    "    return Pa_std_dev/der_cd_abs(result, d_t)"
   ]
  },
  {
   "cell_type": "markdown",
   "metadata": {},
   "source": [
    "#### Caculating & plotting $\\Delta\\phi_\\text{min}$ vs. $\\langle n \\rangle$ using $\\hat{P} = (-1)^{\\hat{N_1}}$"
   ]
  },
  {
   "cell_type": "code",
   "execution_count": 8,
   "metadata": {},
   "outputs": [
    {
     "data": {
      "text/plain": [
       "86"
      ]
     },
     "execution_count": 8,
     "metadata": {},
     "output_type": "execute_result"
    }
   ],
   "source": [
    "file = open(\"parity_numerical_Schrödinger_1_12.txt\",\"w+\")\n",
    "file.write(\"# Δφ_min calculated using parity operator and numerical Schrödinger method\\n\")\n",
    "file.write(\"# |ψ_in_1> = |0>|α>\\n\")\n",
    "file.write(\"# |ψ_in_2> = |β>|β>\\n\")\n",
    "file.write(\"# ------------------------------------------------------------------------------------------------\\n\")\n",
    "file.write(\"# %-10s %-30s %-10s %-30s\\n\" % (\"alpha\",\"Δφ_min_1\",\"beta\",\"Δφ_min_2\"))"
   ]
  },
  {
   "cell_type": "code",
   "execution_count": 9,
   "metadata": {},
   "outputs": [
    {
     "name": "stdout",
     "output_type": "stream",
     "text": [
      "alpha = 2.0\n",
      "alpha = 2.5\n",
      "alpha = 3.0\n",
      "alpha = 3.5\n",
      "alpha = 4.0\n",
      "alpha = 4.5\n",
      "alpha = 5.0\n",
      "alpha = 5.5\n",
      "alpha = 6.0\n",
      "alpha = 6.5\n"
     ]
    }
   ],
   "source": [
    "n_1_avgs = []; phi_1_std_dev_mins = []\n",
    "n_2_avgs = []; phi_2_std_dev_mins = []\n",
    "\n",
    "t_min = -0.01; t_max = 2*np.pi; d_t = 0.09\n",
    "alphas = [0.5*n for n in range (4,14)] # {2, 2.5, 3 ... 6.5}\n",
    "\n",
    "for alpha in alphas:\n",
    "    beta = np.sqrt(alpha**2/2)\n",
    "    \n",
    "    rho_in_1 = rho(psi_in_1(alpha))\n",
    "    rho_in_2 = rho(psi_in_2(beta))\n",
    "    \n",
    "    # <n>'s\n",
    "    n_1_avgs.append(np.abs((rho_in_1*S_n).tr()))\n",
    "    n_2_avgs.append(np.abs((rho_in_2*S_n).tr()))\n",
    "    \n",
    "    # Δφ_min's\n",
    "    phi_1_std_dev = phi_std_dev_num(rho_in_1, t_min, t_max, d_t)\n",
    "    min_1 = np.amin(phi_1_std_dev)\n",
    "    phi_1_std_dev_mins.append(min_1)\n",
    "    \n",
    "    phi_2_std_dev = phi_std_dev_num(rho_in_2, t_min, t_max, d_t)\n",
    "    min_2 = np.amin(phi_2_std_dev)\n",
    "    phi_2_std_dev_mins.append(min_2)\n",
    "    \n",
    "    file.write(\"  %-10.8f %-30.25f %-10.8f %-30.25f\\n\" % (alpha,min_1,beta,min_2))\n",
    "    print(\"alpha =\", alpha)"
   ]
  },
  {
   "cell_type": "code",
   "execution_count": 10,
   "metadata": {},
   "outputs": [],
   "source": [
    "file.close()"
   ]
  },
  {
   "cell_type": "code",
   "execution_count": 11,
   "metadata": {},
   "outputs": [
    {
     "data": {
      "text/plain": [
       "117"
      ]
     },
     "execution_count": 11,
     "metadata": {},
     "output_type": "execute_result"
    }
   ],
   "source": [
    "file = open(\"parity_numerical_Schrödinger_1_345.txt\",\"w+\")\n",
    "file.write(\"# Δφ_min calculated using parity operator and numerical Schrödinger method\\n\")\n",
    "file.write(\"# |ψ_in_3> = N(|α_1,α_2>+|α_2,α_1>)\\n\")\n",
    "file.write(\"# |ψ_in_4> = N(a_1†|α_1,α_2>+a_2†|α_1,α_2>)\\n\")\n",
    "file.write(\"# |ψ_in_5> = N(a_1†²|α_1,α_2>+a_2†²|α_1,α_2>)\\n\")\n",
    "file.write(\"# ------------------------------------------------------------------------------------------------\\n\")\n",
    "file.write(\"# %-10s %-10s %-30s %-30s %-30s\\n\" % (\"alpha_1\",\"alpha_2\",\"Δφ_min_3\",\"Δφ_min_4\",\"Δφ_min_5\"))"
   ]
  },
  {
   "cell_type": "code",
   "execution_count": null,
   "metadata": {},
   "outputs": [
    {
     "name": "stdout",
     "output_type": "stream",
     "text": [
      "alpha_1 = 0.5 , alpha_2 = -0.5\n",
      "alpha_1 = 1 , alpha_2 = -1\n",
      "alpha_1 = 1.5 , alpha_2 = -1.5\n",
      "alpha_1 = 2 , alpha_2 = -2\n",
      "alpha_1 = 2.5 , alpha_2 = -2.5\n"
     ]
    }
   ],
   "source": [
    "n_3_avgs = []; phi_3_std_dev_mins = []\n",
    "n_4_avgs = []; phi_4_std_dev_mins = []\n",
    "n_5_avgs = []; phi_5_std_dev_mins = []\n",
    "\n",
    "t_min = -0.01; t_max = 2*np.pi; d_t = 0.09\n",
    "#alpha_1s = [0.5, 1, 1.5, 2, 2.5, 3, 3.5, 4, 4.5]\n",
    "#alpha_2s = [-0.5, -1, -1.5, -2, -2.5, -3, -3.5, -4, -4.5]\n",
    "alpha_1s = [0.5, 1, 1.5, 2, 2.5, 3, 3.5, 4]\n",
    "alpha_2s = [-0.5, -1, -1.5, -2, -2.5, -3, -3.5, -4]\n",
    "\n",
    "    \n",
    "for alpha_1,alpha_2 in zip(alpha_1s,alpha_2s):\n",
    "    rho_in_3 = rho(psi_in_3(alpha_1, alpha_2))\n",
    "    rho_in_4 = rho(psi_in_4(alpha_1, alpha_2))\n",
    "    rho_in_5 = rho(psi_in_5(alpha_1, alpha_2))\n",
    "\n",
    "    # <n>'s\n",
    "    n_3_avgs.append(np.abs((rho_in_3*S_n).tr()))\n",
    "    n_4_avgs.append(np.abs((rho_in_4*S_n).tr()))\n",
    "    n_5_avgs.append(np.abs((rho_in_5*S_n).tr()))\n",
    "\n",
    "    # Δφ_min's\n",
    "    phi_3_std_dev = phi_std_dev_num(rho_in_3, t_min, t_max, d_t)\n",
    "    min_3 = np.amin(phi_3_std_dev)\n",
    "    phi_3_std_dev_mins.append(min_3)\n",
    "    \n",
    "    phi_4_std_dev = phi_std_dev_num(rho_in_4, t_min, t_max, d_t)\n",
    "    min_4 = np.amin(phi_4_std_dev)\n",
    "    phi_4_std_dev_mins.append(min_4)\n",
    "    \n",
    "    phi_5_std_dev = phi_std_dev_num(rho_in_5, t_min, t_max, d_t)\n",
    "    min_5 = np.amin(phi_5_std_dev)\n",
    "    phi_5_std_dev_mins.append(min_5)\n",
    "    \n",
    "    file.write(\"  %-10.8f %-10.8f %-30.25f %-30.25f %-30.25f\\n\" % (alpha_1,alpha_2,min_3,min_4,min_5))\n",
    "    print(\"alpha_1 =\", alpha_1, \", alpha_2 =\", alpha_2)"
   ]
  },
  {
   "cell_type": "code",
   "execution_count": null,
   "metadata": {},
   "outputs": [],
   "source": [
    "file.close()"
   ]
  },
  {
   "cell_type": "markdown",
   "metadata": {},
   "source": [
    "## Symbolic Schrödinger picture"
   ]
  },
  {
   "cell_type": "markdown",
   "metadata": {},
   "source": [
    "### Functions returning $\\Delta\\phi$ using $\\hat{P}$"
   ]
  },
  {
   "cell_type": "code",
   "execution_count": 1,
   "metadata": {},
   "outputs": [],
   "source": [
    "sp.exp(T*Qobj_to_sp_array(1j*n_b))"
   ]
  },
  {
   "cell_type": "code",
   "execution_count": null,
   "metadata": {},
   "outputs": [],
   "source": [
    "psi_in = psi_in_1(1)\n",
    "# revolving ψ_in & switching to symbolic representation\n",
    "psi_out_1 = Qobj_to_np_array(U*psi_in)\n",
    "F = linalg.expm(1j*T*Qobj_to_np_array(n_b)) # phase shift operator\n",
    "#psi_out_mirror = F@psi_out_1\n",
    "#psi_out_2 = U@psi_out_mirror"
   ]
  },
  {
   "cell_type": "code",
   "execution_count": 6,
   "metadata": {},
   "outputs": [],
   "source": [
    "def phi_std_dev_sym(psi_in):\n",
    "    #rho_in = rho(psi_in)\n",
    "    \n",
    "    # ΔP\n",
    "    #Pa_std_dev = np.sqrt(1 - (rho*Pa).tr()**2)\n",
    "    \n",
    "    # revolving ψ_in & switching to symbolic representation\n",
    "    psi_out_1 = Qobj_to_np_array(U*psi_in)\n",
    "    F = linalg.expm(1j*T*Qobj_to_np_array(n_b)) # phase shift operator\n",
    "    #psi_out_mirror = F@psi_out_1\n",
    "    #psi_out_2 = U@psi_out_mirror\n",
    "    \n",
    "    return psi_out_1"
   ]
  },
  {
   "cell_type": "markdown",
   "metadata": {},
   "source": [
    "## Numerical Heisenberg picture 1"
   ]
  },
  {
   "cell_type": "markdown",
   "metadata": {},
   "source": [
    "### Functions returning $\\Delta\\phi$ using $\\hat{P}$"
   ]
  },
  {
   "cell_type": "code",
   "execution_count": null,
   "metadata": {},
   "outputs": [],
   "source": [
    "def phi_std_dev(rho_in):\n",
    "    # ΔP\n",
    "    Pa_std_dev = np.sqrt(1 - (rho_in*Pa).tr()**2)\n",
    "    \n",
    "    # |d<P_a>_out/dφ|\n",
    "    result = []\n",
    "    for t in arange(-0.01, 2*np.pi, 0.1):\n",
    "        sin_t = np.sin(t)\n",
    "        cos_t = np.cos(t)\n",
    "        \n",
    "        Na_out = 1/2*((1-cos_t)*n_a + (1+cos_t)*n_b) - sin_t*Jx\n",
    "        \n",
    "        # commutation\n",
    "        #Pa_out = 1j*np.pi*(sin_t*Jz - cos_t*Jx) * ((1j*np.pi*Na_out).expm())\n",
    "        Pa_out = ((1j*np.pi*Na_out).expm()) * 1j*np.pi*(sin_t*Jz - cos_t*Jx)\n",
    "        \n",
    "        result.append(np.abs((rho_in*Pa_out).tr()))\n",
    "        \n",
    "    # ΔP/|d<P_a>_out/dφ|\n",
    "    return(Pa_std_dev/np.array(result))"
   ]
  },
  {
   "cell_type": "markdown",
   "metadata": {},
   "source": [
    "#### Caculating & plotting $\\Delta\\phi_\\text{min}$ vs. $\\langle n \\rangle$ using $\\hat{P} = (-1)^{\\hat{N_1}}$"
   ]
  },
  {
   "cell_type": "code",
   "execution_count": null,
   "metadata": {},
   "outputs": [],
   "source": [
    "file = open(\"parity_numerical_Heisenberg_1_12.txt\",\"w+\")\n",
    "file.write(\"# Δφ_min calculated using parity operator and numerical Heisenberg method\\n\")\n",
    "file.write(\"# |ψ_in_1> = |0>|α>\\n\")\n",
    "file.write(\"# |ψ_in_2> = |β>|β>\\n\")\n",
    "file.write(\"# ------------------------------------------------------------------------------------------------\\n\")\n",
    "file.write(\"# %-10s %-30s %-10s %-30s\\n\" % (\"alpha\",\"Δφ_min_1\",\"beta\",\"Δφ_min_2\"))"
   ]
  },
  {
   "cell_type": "code",
   "execution_count": null,
   "metadata": {},
   "outputs": [],
   "source": [
    "n_1_avgs = []; phi_1_std_dev_mins = []\n",
    "n_2_avgs = []; phi_2_std_dev_mins = []\n",
    "\n",
    "alphas = [0.5*n for n in range (4,14)] # {2, 2.5, 3, ... 6.5}\n",
    "\n",
    "for alpha in alphas:\n",
    "    beta = np.sqrt(alpha**2/2)\n",
    "    \n",
    "    rho_in_1 = rho(psi_in_1(alpha))\n",
    "    rho_in_2 = rho(psi_in_2(beta))\n",
    "    \n",
    "    # <n>'s\n",
    "    n_1_avgs.append(np.abs((rho_in_1*S_n).tr()))\n",
    "    n_2_avgs.append(np.abs((rho_in_2*S_n).tr()))\n",
    "    \n",
    "    # Δφ_min's\n",
    "    phi_1_std_dev = phi_std_dev(rho_in_1)\n",
    "    min_1 = np.amin(phi_1_std_dev)\n",
    "    phi_1_std_dev_mins.append(min_1)\n",
    "    \n",
    "    phi_2_std_dev = phi_std_dev(rho_in_2)\n",
    "    min_2 = np.amin(phi_2_std_dev)\n",
    "    phi_2_std_dev_mins.append(min_2)\n",
    "    \n",
    "    file.write(\"  %-10.8f %-30.25f %-10.8f %-30.25f\\n\" % (alpha,min_1,beta,min_2))"
   ]
  },
  {
   "cell_type": "code",
   "execution_count": null,
   "metadata": {},
   "outputs": [],
   "source": [
    "file.close()"
   ]
  },
  {
   "cell_type": "code",
   "execution_count": null,
   "metadata": {},
   "outputs": [],
   "source": [
    "file = open(\"parity_numerical_Heisenberg_1_345.txt\",\"w+\")\n",
    "file.write(\"# Δφ_min calculated using parity operator and numerical Heisenberg method\\n\")\n",
    "file.write(\"# |ψ_in_3> = N(|α_1,α_2>+|α_2,α_1>)\\n\")\n",
    "file.write(\"# |ψ_in_4> = N(a_1†|α_1,α_2>+a_2†|α_1,α_2>)\\n\")\n",
    "file.write(\"# |ψ_in_5> = N(a_1†²|α_1,α_2>+a_2†²|α_1,α_2>)\\n\")\n",
    "file.write(\"# ------------------------------------------------------------------------------------------------\\n\")\n",
    "file.write(\"# %-10s %-10s %-30s %-30s %-30s\\n\" % (\"alpha_1\",\"alpha_2\",\"Δφ_min_3\",\"Δφ_min_4\",\"Δφ_min_5\"))"
   ]
  },
  {
   "cell_type": "code",
   "execution_count": null,
   "metadata": {},
   "outputs": [],
   "source": [
    "alpha_1s = [0.5, 1, 1.5, 2, 2.5, 3, 3.5, 4, 4.5]\n",
    "alpha_2s = [-0.5, -1, -1.5, -2, -2.5, -3, -3.5, -4, -4.5]\n",
    "\n",
    "n_3_avgs = []; phi_3_std_dev_mins = []\n",
    "n_4_avgs = []; phi_4_std_dev_mins = []\n",
    "n_5_avgs = []; phi_5_std_dev_mins = []\n",
    "    \n",
    "for alpha_1,alpha_2 in zip(alpha_1s,alpha_2s):\n",
    "    rho_in_3 = rho(psi_in_3(alpha_1, alpha_2))\n",
    "    rho_in_4 = rho(psi_in_4(alpha_1, alpha_2))\n",
    "    rho_in_5 = rho(psi_in_5(alpha_1, alpha_2))\n",
    "\n",
    "    # <n>'s\n",
    "    n_3_avgs.append(np.abs((rho_in_3*S_n).tr()))\n",
    "    n_4_avgs.append(np.abs((rho_in_4*S_n).tr()))\n",
    "    n_5_avgs.append(np.abs((rho_in_5*S_n).tr()))\n",
    "\n",
    "    # Δφ_min's\n",
    "    phi_3_std_dev = phi_std_dev(rho_in_3)\n",
    "    min_3 = np.amin(phi_3_std_dev)\n",
    "    phi_3_std_dev_mins.append(min_3)\n",
    "    \n",
    "    phi_4_std_dev = phi_std_dev(rho_in_4)\n",
    "    min_4 = np.amin(phi_4_std_dev)\n",
    "    phi_4_std_dev_mins.append(min_4)\n",
    "    \n",
    "    phi_5_std_dev = phi_std_dev(rho_in_5)\n",
    "    min_5 = np.amin(phi_5_std_dev)\n",
    "    phi_5_std_dev_mins.append(min_5)\n",
    "    \n",
    "    file.write(\"  %-10.8f %-10.8f %-30.25f %-30.25f %-30.25f\\n\" % (alpha_1,alpha_2,min_3,min_4,min_5))"
   ]
  },
  {
   "cell_type": "code",
   "execution_count": null,
   "metadata": {},
   "outputs": [],
   "source": [
    "file.close()"
   ]
  }
 ],
 "metadata": {
  "kernelspec": {
   "display_name": "Python 3",
   "language": "python",
   "name": "python3"
  },
  "language_info": {
   "codemirror_mode": {
    "name": "ipython",
    "version": 3
   },
   "file_extension": ".py",
   "mimetype": "text/x-python",
   "name": "python",
   "nbconvert_exporter": "python",
   "pygments_lexer": "ipython3",
   "version": "3.7.3"
  }
 },
 "nbformat": 4,
 "nbformat_minor": 2
}
